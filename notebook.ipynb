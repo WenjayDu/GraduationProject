{
  "cells": [
    {
      "cell_type": "markdown",
      "metadata": {
        "collapsed": true,
        "pycharm": {
          "name": "#%% md\n"
        }
      },
      "source": "# Clone repos and change dir"
    },
    {
      "cell_type": "code",
      "execution_count": null,
      "outputs": [],
      "source": "# clone and install tf_unet \n! git clone https://github.com/jakeret/tf_unet.git\n! cd tf_unet \u0026\u0026 python setup.py install --user",
      "metadata": {
        "pycharm": {
          "metadata": false,
          "name": "#%%\n"
        }
      }
    },
    {
      "cell_type": "code",
      "execution_count": null,
      "metadata": {
        "pycharm": {
          "metadata": false,
          "name": "#%%\n"
        }
      },
      "outputs": [],
      "source": "# clone/update the GraduationProject\n# if project does not exit, then clone the remote repo to local\n# if do exit now, then pull from the remote, both the main project and submodules\nimport os\nos.chdir(\"/content\")\n\n!if [ ! -d \"/content/GraduationProject\" ]; then \\\n    cd /content \u0026\u0026 \\\n    echo -e \"\\n❗️Project does not exist, pulling from remote...\" \u0026\u0026 \\\n    git clone https://github.com/WenjayDu/GraduationProject.git \u0026\u0026 \\\n    cd GraduationProject \u0026\u0026 \\\n    git submodule update --init --recursive \u0026\u0026 \\\n    echo \"❗️Done pulling\"; \\\nelse \\\n    echo -e \"\\n❗️Start updating...\" \u0026\u0026 \\\n    cd /content/GraduationProject \u0026\u0026 \\\n    echo \"🚩Now in `pwd`\" \u0026\u0026 \\\n    git pull \u0026\u0026 \\\n    cd module_minc_keras \u0026\u0026 \\\n    echo \"🚩Now in `pwd`\" \u0026\u0026 \\\n    git checkout master \u0026\u0026 \\\n    git pull \u0026\u0026 \\\n    cd ../module_pocketflow \u0026\u0026 \\\n    echo \"🚩Now in `pwd`\" \u0026\u0026 \\\n    git checkout master \u0026\u0026 \\\n    git pull \u0026\u0026 \\\n    echo \"❗️Done updating\"; \\\nfi\n"
    },
    {
      "cell_type": "markdown",
      "metadata": {
        "pycharm": {
          "metadata": false,
          "name": "#%% md\n"
        }
      },
      "source": "# Prepare dataset"
    },
    {
      "cell_type": "code",
      "execution_count": null,
      "metadata": {
        "pycharm": {
          "metadata": false,
          "name": "#%%\n"
        }
      },
      "outputs": [],
      "source": "os.chdir(\"/content/GraduationProject/datasets\")\n# decompress output.tar.bz2 and make mri dataset\n!if [ ! -d \"./mri\" ]; then \\\n    tar -jxvf /content/GraduationProject/module_minc_keras/data/output.tar.bz2 -C ./ \u0026\u003e /dev/null \u0026\u0026 \\\n    mv output mri; \\\nfi\n\n# download sorteo.tar.bz2 and make sorteo dataset\n!if [ ! -d \"./sorteo\" ]; then \\\n    wget https://amnesia.cbrain.mcgill.ca/deeplearning/sorteo.tar.bz2 --no-check-certificate \u0026\u0026 \\\n    mkdir sorteo \u0026\u0026 \\\n    tar -jxvf sorteo.tar.bz2 -C sorteo \u0026\u003e /dev/null; \\\nfi\n\n# prepare datasets\nos.chdir(\"/content/GraduationProject\")\nfrom data_processing.prepare_datasets import prepare_dataset\n# generate small datasets to avoid memory exceeding causing process killed on cloab\nprepare_dataset(dataset_name\u003d\"mri\",ratios\u003d[0.3, 0.15]) \nprepare_dataset(dataset_name\u003d\"sorteo\",ratios\u003d[0.3, 0.15])\n\n# convert generated .npy files to .tfrecords files\nfrom data_processing.convert_npy_to_tfrecords import convert_whole_dataset\nconvert_whole_dataset(\"mri\")\nconvert_whole_dataset(\"sorteo\")\n"
    },
    {
      "cell_type": "markdown",
      "metadata": {
        "pycharm": {
          "metadata": false
        }
      },
      "source": "# Construct unet with Keras and train it"
    },
    {
      "cell_type": "markdown",
      "source": "## on MRI dataset",
      "metadata": {
        "pycharm": {
          "metadata": false
        }
      }
    },
    {
      "cell_type": "markdown",
      "source": "### architecture\u003doriginal, epoch\u003d10",
      "metadata": {
        "pycharm": {
          "metadata": false
        }
      }
    },
    {
      "cell_type": "code",
      "execution_count": null,
      "outputs": [],
      "source": "!python3 /content/GraduationProject/unet_constructing/keras_impl_original.py \\\n    --dataset_name\u003d\"mri\" \\\n    --epoch_num\u003d10",
      "metadata": {
        "pycharm": {
          "metadata": false,
          "name": "#%%\n"
        }
      }
    },
    {
      "cell_type": "markdown",
      "source": "### architecture\u003doriginal with BN in the contracting path, epoch\u003d10",
      "metadata": {
        "pycharm": {
          "metadata": false
        }
      }
    },
    {
      "cell_type": "code",
      "execution_count": null,
      "metadata": {
        "pycharm": {
          "metadata": false,
          "name": "#%%\n"
        }
      },
      "outputs": [],
      "source": "!python3 /content/GraduationProject/unet_constructing/keras_impl_original_with_BN.py \\\n    --dataset_name\u003d\"mri\" \\\n    --epoch_num\u003d10"
    },
    {
      "cell_type": "markdown",
      "source": "### architecture\u003dsmaller, epoch\u003d10",
      "metadata": {
        "pycharm": {
          "metadata": false,
          "name": "#%% md\n"
        }
      }
    },
    {
      "cell_type": "code",
      "source": "!python3 /content/GraduationProject/unet_constructing/keras_impl_smaller.py \\\n    --dataset_name\u003d\"mri\" \\\n    --epoch_num\u003d10",
      "metadata": {
        "pycharm": {
          "metadata": false,
          "name": "#%%\n"
        }
      },
      "execution_count": null,
      "outputs": []
    },
    {
      "cell_type": "markdown",
      "source": "### architecture\u003dsmaller with BN in the contracting path, epoch\u003d10",
      "metadata": {
        "pycharm": {
          "metadata": false
        }
      }
    },
    {
      "cell_type": "code",
      "execution_count": null,
      "outputs": [],
      "source": "!python3 /content/GraduationProject/unet_constructing/keras_impl_smaller_with_BN.py \\\n    --dataset_name\u003d\"mri\" \\\n    --epoch_num\u003d10",
      "metadata": {
        "pycharm": {
          "metadata": false,
          "name": "#%%\n"
        }
      }
    },
    {
      "cell_type": "markdown",
      "source": "## on SORTEO dataset",
      "metadata": {
        "pycharm": {
          "metadata": false
        }
      }
    },
    {
      "cell_type": "markdown",
      "source": "### architecture\u003doriginal, epoch\u003d10",
      "metadata": {
        "pycharm": {
          "metadata": false
        }
      }
    },
    {
      "cell_type": "code",
      "execution_count": null,
      "outputs": [],
      "source": "!python3 /content/GraduationProject/unet_constructing/keras_impl_original.py \\\n    --dataset_name\u003d\"sorteo\" \\\n    --epoch_num\u003d10",
      "metadata": {
        "pycharm": {
          "metadata": false,
          "name": "#%%\n"
        }
      }
    },
    {
      "cell_type": "markdown",
      "source": "### architecture\u003doriginal with BN in the contracting path, epoch\u003d10",
      "metadata": {
        "pycharm": {
          "metadata": false
        }
      }
    },
    {
      "cell_type": "code",
      "execution_count": null,
      "outputs": [],
      "source": "!python3 /content/GraduationProject/unet_constructing/keras_impl_original_with_BN.py \\\n    --dataset_name\u003d\"sorteo\" \\\n    --epoch_num\u003d10",
      "metadata": {
        "pycharm": {
          "metadata": false,
          "name": "#%%\n"
        }
      }
    },
    {
      "cell_type": "markdown",
      "source": "### architecture\u003dsmaller, epoch\u003d10",
      "metadata": {
        "pycharm": {
          "metadata": false
        }
      }
    },
    {
      "cell_type": "code",
      "execution_count": null,
      "outputs": [],
      "source": "!python3 /content/GraduationProject/unet_constructing/keras_impl_smaller.py \\\n    --dataset_name\u003d\"sorteo\" \\\n    --epoch_num\u003d10",
      "metadata": {
        "pycharm": {
          "metadata": false,
          "name": "#%%\n"
        }
      }
    },
    {
      "cell_type": "markdown",
      "source": "### architecture\u003dsmaller with BN in the contracting path, epoch\u003d10",
      "metadata": {
        "pycharm": {
          "metadata": false
        }
      }
    },
    {
      "cell_type": "code",
      "execution_count": null,
      "outputs": [],
      "source": "!python3 /content/GraduationProject/unet_constructing/keras_impl_smaller_with_BN.py \\\n    --dataset_name\u003d\"sorteo\" \\\n    --epoch_num\u003d10",
      "metadata": {
        "pycharm": {
          "metadata": false,
          "name": "#%%\n"
        }
      }
    },
    {
      "cell_type": "markdown",
      "metadata": {
        "pycharm": {
          "metadata": false
        }
      },
      "source": "## make prediction with trained model"
    },
    {
      "cell_type": "code",
      "execution_count": null,
      "metadata": {
        "pycharm": {
          "metadata": false,
          "name": "#%%\n"
        }
      },
      "outputs": [],
      "source": "from module_minc_keras.predict import predict\nos.chdir(\"/content/GraduationProject\")\n!if [ ! -d \"output/keras_impl_original_with_BN/predictions\" ]; then \\\n    mkdir output/keras_impl_original_with_BN/predictions; \\\nfi\n\npredict(model_fn\u003d\u0027output/keras_impl_original_with_BN/saved_models/unet_model_on_mri.hdf5\u0027, \n        predict_dir\u003d\u0027output/keras_impl_original_with_BN/predictions\u0027,\n        data_dir\u003d\u0027datasets/mri_pad_4_results/data\u0027, \n        images_fn\u003d\u0027datasets/mri_pad_4_results/report/images.csv\u0027, \n        loss\u003d\u0027categorical_crossentropy\u0027,\n        images_to_predict\u003d\u0027all\u0027, \n        category\u003d\"test\", \n        verbose\u003dTrue)"
    },
    {
      "cell_type": "markdown",
      "metadata": {
        "pycharm": {
          "metadata": false
        }
      },
      "source": "# Construct unet with TensorFlow and train it"
    },
    {
      "cell_type": "markdown",
      "source": "## on MRI dataset",
      "metadata": {
        "pycharm": {
          "metadata": false
        }
      }
    },
    {
      "cell_type": "markdown",
      "source": "### architecture\u003doriginal, epoch\u003d10",
      "metadata": {
        "pycharm": {
          "metadata": false
        }
      }
    },
    {
      "cell_type": "code",
      "execution_count": null,
      "metadata": {
        "pycharm": {
          "metadata": false,
          "name": "#%%\n"
        }
      },
      "outputs": [],
      "source": "!python3 /content/GraduationProject/unet_constructing/tf_impl_original.py \\\n    --train_batch_size\u003d64 \\\n    --validate_batch_size\u003d64 \\\n    --test_batch_size\u003d64 \\\n    --dataset_name\u003d\"mri\" \\\n    --epoch_num\u003d10"
    },
    {
      "cell_type": "markdown",
      "source": "### architecture\u003doriginal with BN in the contracting path, epoch\u003d10",
      "metadata": {
        "pycharm": {
          "metadata": false
        }
      }
    },
    {
      "cell_type": "code",
      "execution_count": null,
      "outputs": [],
      "source": "!python3 /content/GraduationProject/unet_constructing/tf_impl_original_with_BN.py \\\n    --train_batch_size\u003d64 \\\n    --validate_batch_size\u003d64 \\\n    --test_batch_size\u003d64 \\\n    --dataset_name\u003d\"mri\" \\\n    --epoch_num\u003d10",
      "metadata": {
        "pycharm": {
          "metadata": false,
          "name": "#%%\n"
        }
      }
    },
    {
      "cell_type": "markdown",
      "source": "## on SORTEO dataset",
      "metadata": {
        "pycharm": {
          "metadata": false
        }
      }
    },
    {
      "cell_type": "markdown",
      "source": "### architecture\u003doriginal, epoch\u003d10",
      "metadata": {
        "pycharm": {
          "metadata": false
        }
      }
    },
    {
      "cell_type": "code",
      "execution_count": null,
      "outputs": [],
      "source": "!python3 /content/GraduationProject/unet_constructing/tf_impl_original.py \\\n    --train_batch_size\u003d64 \\\n    --validate_batch_size\u003d64 \\\n    --test_batch_size\u003d64 \\\n    --dataset_name\u003d\"sorteo\" \\\n    --epoch_num\u003d10",
      "metadata": {
        "pycharm": {
          "metadata": false,
          "name": "#%%\n"
        }
      }
    },
    {
      "cell_type": "markdown",
      "source": "### architecture\u003doriginal with BN in the contracting path, epoch\u003d10",
      "metadata": {
        "pycharm": {
          "metadata": false
        }
      }
    },
    {
      "cell_type": "code",
      "execution_count": null,
      "outputs": [],
      "source": "!python3 /content/GraduationProject/unet_constructing/tf_impl_original_with_BN.py \\\n    --train_batch_size\u003d64 \\\n    --validate_batch_size\u003d64 \\\n    --test_batch_size\u003d64 \\\n    --dataset_name\u003d\"sorteo\" \\\n    --epoch_num\u003d10\n",
      "metadata": {
        "pycharm": {
          "metadata": false,
          "name": "#%%\n"
        }
      }
    },
    {
      "cell_type": "markdown",
      "metadata": {
        "pycharm": {
          "metadata": false
        }
      },
      "source": "# Use ngrok to map tensorboard to a public URL to enable visit, if you want, just run it"
    },
    {
      "cell_type": "code",
      "execution_count": null,
      "metadata": {
        "pycharm": {
          "metadata": false,
          "name": "#%%\n"
        }
      },
      "outputs": [],
      "source": "# run tensorboard\nLOG_DIR\u003d\"\" # you must give the path of log dir\nget_ipython().system_raw(\n    \u0027tensorboard --logdir {} --host 0.0.0.0 --port 6006 \u0026\u0027\n    .format(LOG_DIR)\n)\n"
    },
    {
      "cell_type": "code",
      "execution_count": null,
      "metadata": {
        "pycharm": {
          "metadata": false,
          "name": "#%%\n"
        }
      },
      "outputs": [],
      "source": [
        "# download and unzip ngrok\n",
        "! wget https://bin.equinox.io/c/4VmDzA7iaHb/ngrok-stable-linux-amd64.zip\n",
        "! unzip ngrok-stable-linux-amd64.zip\n"
      ]
    },
    {
      "cell_type": "code",
      "execution_count": null,
      "metadata": {
        "pycharm": {
          "metadata": false,
          "name": "#%%\n"
        }
      },
      "outputs": [],
      "source": [
        "# run ngrok\n",
        "get_ipython().system_raw(\u0027./ngrok http 6006 \u0026\u0027)\n"
      ]
    },
    {
      "cell_type": "code",
      "execution_count": null,
      "metadata": {
        "pycharm": {
          "metadata": false,
          "name": "#%%\n"
        }
      },
      "outputs": [],
      "source": [
        "# map to public URL\n",
        "! curl -s http://localhost:4040/api/tunnels | \\\n",
        "    python3 -c \"import sys, json; print(json.load(sys.stdin)[\u0027tunnels\u0027][0][\u0027public_url\u0027])\" | \\\n",
        "    xargs echo \"the public url of tensorboard is -\u003e \"\n"
      ]
    },
    {
      "cell_type": "markdown",
      "metadata": {
        "pycharm": {
          "metadata": false,
          "name": "#%% md\n"
        }
      },
      "source": "# Freeze the graph to .pb file if you want"
    },
    {
      "cell_type": "code",
      "execution_count": null,
      "metadata": {
        "pycharm": {
          "metadata": false,
          "name": "#%%\n"
        }
      },
      "outputs": [],
      "source": "from data_processing.freeze_and_restore_graph import freeze_graph\nfreeze_graph()\n"
    },
    {
      "cell_type": "markdown",
      "metadata": {
        "pycharm": {
          "metadata": false,
          "name": "#%% md\n"
        }
      },
      "source": "# Model compressing"
    },
    {
      "cell_type": "code",
      "execution_count": null,
      "metadata": {
        "pycharm": {
          "metadata": false,
          "name": "#%%\n"
        }
      },
      "outputs": [],
      "source": "!if [ ! -d \"/content/GraduationProject/module_pocketflow/compressing_with_PF\" ]; then \\ \n    cp -r /content/GraduationProject/compressing_with_PF /content/GraduationProject/module_pocketflow/; \\\nfi \n\nos.chdir(\"/content/GraduationProject/module_pocketflow\")\n!./scripts/run_local.sh compressing_with_PF/unet_on_mri_run.py \\\n        --learner\u003dfull-prec \\\n        --cycle_length\u003d1 \\\n        --nb_threads\u003d1 \\\n        --buffer_size\u003d1 \\\n        --prefetch_size\u003d1\n\n"
    },
    {
      "cell_type": "markdown",
      "source": "# Make record of GPU state",
      "metadata": {
        "pycharm": {
          "metadata": false
        }
      }
    },
    {
      "cell_type": "code",
      "execution_count": null,
      "outputs": [],
      "source": "! while [ 1 ]; \\\ndo echo -e `nvidia-smi`\"\\n\\n\" \u003e\u003e /content/gpu-record.md \u0026\u0026 \\\n   sleep 5; \\\ndone",
      "metadata": {
        "pycharm": {
          "metadata": false,
          "name": "#%%\n"
        }
      }
    }
  ],
  "metadata": {
    "kernelspec": {
      "display_name": "Python 3",
      "language": "python",
      "name": "python3"
    },
    "language_info": {
      "codemirror_mode": {
        "name": "ipython",
        "version": 3
      },
      "file_extension": ".py",
      "mimetype": "text/x-python",
      "name": "python",
      "nbconvert_exporter": "python",
      "pygments_lexer": "ipython3",
      "version": "3.6.8"
    }
  },
  "nbformat": 4,
  "nbformat_minor": 1
}