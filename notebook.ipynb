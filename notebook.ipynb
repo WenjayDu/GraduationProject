{
  "cells": [
    {
      "cell_type": "markdown",
      "metadata": {
        "collapsed": true,
        "pycharm": {
          "name": "#%% md\n"
        }
      },
      "source": [
        "# clone repos and change dir"
      ]
    },
    {
      "cell_type": "code",
      "execution_count": null,
      "metadata": {
        "pycharm": {
          "metadata": false,
          "name": "#%%\n"
        }
      },
      "outputs": [],
      "source": [
        "# if project does not exit, then clone the remote repo to local\n",
        "# if do exit now, then pull from the remote, both the main project and submodules\n",
        "import os\n",
        "os.chdir(\"/content\")\n",
        "\n",
        "!if [ ! -d \"/content/GraduationProject\" ]; then git clone https://github.com/WenjayDu/GraduationProject.git \u0026\u0026 cd GraduationProject \u0026\u0026 git submodule update --init --recursive; else cd /content/GraduationProject \u0026\u0026 git pull \u0026\u0026 cd module_minc_keras \u0026\u0026 git checkout master \u0026\u0026 git pull \u0026\u0026 cd ../module_pocketflow \u0026\u0026 git checkout master \u0026\u0026 git pull; fi\n",
        "\n",
        "os.chdir(\"/content/GraduationProject\")\n"
      ]
    },
    {
      "cell_type": "markdown",
      "metadata": {
        "pycharm": {
          "metadata": false,
          "name": "#%% md\n"
        }
      },
      "source": "# prepare dataset"
    },
    {
      "cell_type": "code",
      "execution_count": null,
      "metadata": {
        "pycharm": {
          "metadata": false,
          "name": "#%%\n"
        }
      },
      "outputs": [],
      "source": [
        "# decompressing dataset output.tar.bz2\n",
        "!tar -jxvf /content/GraduationProject/module_minc_keras/data/output.tar.bz2 -C /content/GraduationProject/datasets \u0026\u003e /dev/null\n",
        "!mv /content/GraduationProject/datasets/output /content/GraduationProject/datasets/mri \n",
        "\n",
        "# prepare mri dataset\n",
        "import os\n",
        "os.chdir(\"/content/GraduationProject\")\n",
        "from data_processing.prepare_datasets import prepare_mri_dataset\n",
        "# generate small datasets to avoid memory exceeding causing process killed on cloab\n",
        "prepare_mri_dataset(ratios\u003d[0.3, 0.15]) \n"
      ]
    },
    {
      "cell_type": "markdown",
      "metadata": {
        "pycharm": {
          "metadata": false
        }
      },
      "source": "# construct unet with keras and train it"
    },
    {
      "cell_type": "code",
      "execution_count": null,
      "metadata": {
        "pycharm": {
          "metadata": false,
          "name": "#%%\n"
        }
      },
      "outputs": [],
      "source": "!python3 /content/GraduationProject/unet_constructing/construct_unet_with_keras.py"
    },
    {
      "cell_type": "markdown",
      "metadata": {
        "pycharm": {
          "metadata": false
        }
      },
      "source": [
        "## make prediction with trained model"
      ]
    },
    {
      "cell_type": "code",
      "execution_count": null,
      "metadata": {
        "pycharm": {
          "metadata": false,
          "name": "#%%\n"
        }
      },
      "outputs": [],
      "source": [
        "from module_minc_keras.predict import predict\n",
        "predict(model_fn\u003d\u0027ouput/keras_implementation/model_of_unet_at_mri.h5py\u0027, \n",
        "        predict_dir\u003d\u0027ouput/keras_implementation/predictions\u0027,\n",
        "        data_dir\u003d\u0027datasets/mri_pad_4_results/data\u0027, \n",
        "        images_fn\u003d\u0027datasets/mri_pad_4_results/report/images.csv\u0027, \n",
        "        loss\u003d\u0027categorical_crossentropy\u0027,\n",
        "        images_to_predict\u003d\u0027all\u0027, \n",
        "        category\u003d\"test\", \n",
        "        verbose\u003dTrue)\n"
      ]
    },
    {
      "cell_type": "markdown",
      "metadata": {
        "pycharm": {
          "metadata": false
        }
      },
      "source": "# construct unet with tensorflow and train it"
    },
    {
      "cell_type": "code",
      "execution_count": null,
      "metadata": {
        "pycharm": {
          "metadata": false,
          "name": "#%%\n"
        }
      },
      "outputs": [],
      "source": "os.chdir(\"/content/GraduationProject\")\n!python3 ./unet_constructing/construct_unet_with_tf.py\n"
    },
    {
      "cell_type": "markdown",
      "metadata": {
        "pycharm": {
          "metadata": false
        }
      },
      "source": "# Use ngrok to map tensorboard to a public URL to enable us to visit"
    },
    {
      "cell_type": "code",
      "execution_count": null,
      "metadata": {
        "pycharm": {
          "metadata": false,
          "name": "#%%\n"
        }
      },
      "outputs": [],
      "source": [
        "# run tensorboard\n",
        "LOG_DIR\u003dLOGS_DIR\n",
        "get_ipython().system_raw(\n",
        "    \u0027tensorboard --logdir {} --host 0.0.0.0 --port 6006 \u0026\u0027\n",
        "    .format(LOG_DIR)\n",
        ")\n"
      ]
    },
    {
      "cell_type": "code",
      "execution_count": null,
      "metadata": {
        "pycharm": {
          "metadata": false,
          "name": "#%%\n"
        }
      },
      "outputs": [],
      "source": [
        "# download and unzip ngrok\n",
        "! wget https://bin.equinox.io/c/4VmDzA7iaHb/ngrok-stable-linux-amd64.zip\n",
        "! unzip ngrok-stable-linux-amd64.zip\n"
      ]
    },
    {
      "cell_type": "code",
      "execution_count": null,
      "metadata": {
        "pycharm": {
          "metadata": false,
          "name": "#%%\n"
        }
      },
      "outputs": [],
      "source": [
        "# run ngrok\n",
        "get_ipython().system_raw(\u0027./ngrok http 6006 \u0026\u0027)\n"
      ]
    },
    {
      "cell_type": "code",
      "execution_count": null,
      "metadata": {
        "pycharm": {
          "metadata": false,
          "name": "#%%\n"
        }
      },
      "outputs": [],
      "source": [
        "# map to public URL\n",
        "! curl -s http://localhost:4040/api/tunnels | \\\n",
        "    python3 -c \"import sys, json; print(json.load(sys.stdin)[\u0027tunnels\u0027][0][\u0027public_url\u0027])\" | \\\n",
        "    xargs echo \"the public url of tensorboard is -\u003e \"\n"
      ]
    },
    {
      "cell_type": "markdown",
      "metadata": {
        "pycharm": {
          "metadata": false,
          "name": "#%% md\n"
        }
      },
      "source": "# Freeze the graph to .pb file if necessary"
    },
    {
      "cell_type": "code",
      "execution_count": null,
      "metadata": {
        "pycharm": {
          "metadata": false,
          "name": "#%%\n"
        }
      },
      "outputs": [],
      "source": "from data_processing.freeze_and_restore_graph import freeze_graph\nfreeze_graph()\n"
    },
    {
      "cell_type": "markdown",
      "metadata": {
        "pycharm": {
          "metadata": false,
          "name": "#%% md\n"
        }
      },
      "source": [
        "# model compressing"
      ]
    },
    {
      "cell_type": "code",
      "execution_count": null,
      "metadata": {
        "pycharm": {
          "metadata": false,
          "name": "#%%\n"
        }
      },
      "outputs": [],
      "source": "!if [ ! -d \"/content/GraduationProject/module_pocketflow/model_compressing\" ]; then cp -r /content/GraduationProject/model_compressing /content/GraduationProject/module_pocketflow/; fi \nos.chdir(\"/content/GraduationProject/module_pocketflow\")\n!./scripts/run_local.sh model_compressing/unet_at_mri_for_pf_run.py \\\n        --learner\u003dfull-prec \\\n        --cycle_length\u003d1 \\\n        --nb_threads\u003d1 \\\n        --buffer_size\u003d1 \\\n        --prefetch_size\u003d1"
    }
  ],
  "metadata": {
    "kernelspec": {
      "display_name": "Python 3",
      "language": "python",
      "name": "python3"
    },
    "language_info": {
      "codemirror_mode": {
        "name": "ipython",
        "version": 3
      },
      "file_extension": ".py",
      "mimetype": "text/x-python",
      "name": "python",
      "nbconvert_exporter": "python",
      "pygments_lexer": "ipython3",
      "version": "3.6.8"
    }
  },
  "nbformat": 4,
  "nbformat_minor": 1
}