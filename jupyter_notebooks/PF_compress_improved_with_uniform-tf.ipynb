{
 "cells": [
  {
   "cell_type": "markdown",
   "source": [
    "# Compress full-precision models with uniform-tf learner in PocketFlow"
   ],
   "metadata": {
    "collapsed": false
   }
  },
  {
   "cell_type": "markdown",
   "source": [
    "## on sorteo "
   ],
   "metadata": {
    "collapsed": false
   }
  },
  {
   "cell_type": "markdown",
   "source": [
    "### improved_divisor1"
   ],
   "metadata": {
    "collapsed": false
   }
  },
  {
   "cell_type": "code",
   "execution_count": null,
   "outputs": [],
   "source": [
    "import os\n",
    "os.chdir(\"/content/GraduationProject/module_pocketflow\")\n",
    "! ./scripts/run_local.sh compressing_with_PF/unet_run.py \\\n",
    "    --structure=improved \\\n",
    "    --divisor=1 \\\n",
    "    --learner=uniform-tf \\\n",
    "    --save_path=/content/GraduationProject/PF_models/full-prec/sorteo_improved_divisor1/models/model.ckpt \\\n",
    "    --uqtf_save_path=/content/GraduationProject/PF_models/uniform-tf/sorteo_improved_divisor1/models/model.ckpt \\\n",
    "    --uqtf_save_path_eval=/content/GraduationProject/PF_models/uniform-tf/sorteo_improved_divisor1/models_eval/model.ckpt \\\n",
    "    --data_dir=/content/GraduationProject/datasets/sorteo_pad_4/data \\\n",
    "    --input_shape=[112,112,1] \\\n",
    "    --epoch_num=20 \\\n",
    "    --lrn_rate_init=0.2 \\\n",
    "    --batch_size=8"
   ],
   "metadata": {
    "collapsed": false,
    "pycharm": {
     "name": "#%%\n"
    }
   }
  },
  {
   "cell_type": "code",
   "source": [
    "! python3 tools/conversion/export_pb_tflite_models.py \\\n",
    "    --model_dir=/content/GraduationProject/PF_models/uniform-tf/sorteo_improved_divisor1/models \\\n",
    "    --meta_file=/content/GraduationProject/PF_models/uniform-tf/sorteo_improved_divisor1/models/model.ckpt-5085.meta \\\n",
    "    --scope=quant_model"
   ],
   "metadata": {
    "collapsed": false,
    "pycharm": {
     "name": "#%%\n"
    }
   },
   "execution_count": null,
   "outputs": []
  },
  {
   "cell_type": "code",
   "execution_count": null,
   "outputs": [],
   "source": [
    "! python3 tools/benchmark/calc_inference_time.py \\\n",
    "    --model_file=/content/GraduationProject/PF_models/uniform-tf/sorteo_improved_divisor1/models/model.pb"
   ],
   "metadata": {
    "collapsed": false,
    "pycharm": {
     "name": "#%%\n"
    }
   }
  },
  {
   "cell_type": "code",
   "execution_count": null,
   "outputs": [],
   "source": [
    "! python3 tools/benchmark/calc_inference_time.py \\\n",
    "    --model_file=/content/GraduationProject/PF_models/uniform-tf/sorteo_improved_divisor1/models/model.tflite\n"
   ],
   "metadata": {
    "collapsed": false,
    "pycharm": {
     "name": "#%%\n"
    }
   }
  },
  {
   "cell_type": "markdown",
   "source": [
    "### improved_divisor2"
   ],
   "metadata": {
    "collapsed": false,
    "pycharm": {
     "name": "#%% md\n"
    }
   }
  },
  {
   "cell_type": "code",
   "source": [
    "os.chdir(\"/content/GraduationProject/module_pocketflow\")\n",
    "! ./scripts/run_local.sh compressing_with_PF/unet_run.py \\\n",
    "    --structure=improved \\\n",
    "    --divisor=2 \\\n",
    "    --learner=uniform-tf \\\n",
    "    --save_path=/content/GraduationProject/PF_models/full-prec/sorteo_improved_divisor2/models/model.ckpt \\\n",
    "    --uqtf_save_path=/content/GraduationProject/PF_models/uniform-tf/sorteo_improved_divisor2/models/model.ckpt \\\n",
    "    --uqtf_save_path_eval=/content/GraduationProject/PF_models/uniform-tf/sorteo_improved_divisor2/models_eval/model.ckpt \\\n",
    "    --data_dir=/content/GraduationProject/datasets/sorteo_pad_4/data \\\n",
    "    --input_shape=[112,112,1] \\\n",
    "    --epoch_num=20 \\\n",
    "    --lrn_rate_init=0.2 \\\n",
    "    --batch_size=8"
   ],
   "metadata": {
    "collapsed": false,
    "pycharm": {
     "name": "#%%\n"
    }
   },
   "execution_count": null,
   "outputs": []
  },
  {
   "cell_type": "code",
   "execution_count": null,
   "outputs": [],
   "source": [
    "! python3 tools/conversion/export_pb_tflite_models.py \\\n",
    "    --model_dir=/content/GraduationProject/PF_models/uniform-tf/sorteo_improved_divisor2/models \\\n",
    "    --meta_file=/content/GraduationProject/PF_models/uniform-tf/sorteo_improved_divisor2/models/model.ckpt-5085.meta \\\n",
    "    --scope=quant_model"
   ],
   "metadata": {
    "collapsed": false,
    "pycharm": {
     "name": "#%%\n"
    }
   }
  },
  {
   "cell_type": "code",
   "execution_count": null,
   "outputs": [],
   "source": [
    "! python3 tools/benchmark/calc_inference_time.py \\\n",
    "    --model_file=/content/GraduationProject/PF_models/uniform-tf/sorteo_improved_divisor2/models/model.pb"
   ],
   "metadata": {
    "collapsed": false,
    "pycharm": {
     "name": "#%%\n"
    }
   }
  },
  {
   "cell_type": "code",
   "execution_count": null,
   "outputs": [],
   "source": [
    "! python3 tools/benchmark/calc_inference_time.py \\\n",
    "    --model_file=/content/GraduationProject/PF_models/uniform-tf/sorteo_improved_divisor2/models/model.tflite\n"
   ],
   "metadata": {
    "collapsed": false,
    "pycharm": {
     "name": "#%%\n"
    }
   }
  },
  {
   "cell_type": "markdown",
   "source": [
    "### improved_divisor4"
   ],
   "metadata": {
    "collapsed": false
   }
  },
  {
   "cell_type": "code",
   "execution_count": null,
   "outputs": [],
   "source": [
    "os.chdir(\"/content/GraduationProject/module_pocketflow\")\n",
    "! ./scripts/run_local.sh compressing_with_PF/unet_run.py \\\n",
    "    --structure=improved \\\n",
    "    --divisor=4 \\\n",
    "    --learner=uniform-tf \\\n",
    "    --save_path=/content/GraduationProject/PF_models/full-prec/sorteo_improved_divisor4/models/model.ckpt \\\n",
    "    --uqtf_save_path=/content/GraduationProject/PF_models/uniform-tf/sorteo_improved_divisor4/models/model.ckpt \\\n",
    "    --uqtf_save_path_eval=/content/GraduationProject/PF_models/uniform-tf/sorteo_improved_divisor4/models_eval/model.ckpt \\\n",
    "    --data_dir=/content/GraduationProject/datasets/sorteo_pad_4/data \\\n",
    "    --input_shape=[112,112,1] \\\n",
    "    --epoch_num=20 \\\n",
    "    --lrn_rate_init=0.2 \\\n",
    "    --batch_size=8"
   ],
   "metadata": {
    "collapsed": false,
    "pycharm": {
     "name": "#%%\n"
    }
   }
  },
  {
   "cell_type": "code",
   "source": [
    "! python3 tools/conversion/export_pb_tflite_models.py \\\n",
    "    --model_dir=/content/GraduationProject/PF_models/uniform-tf/sorteo_improved_divisor4/models \\\n",
    "    --meta_file=/content/GraduationProject/PF_models/uniform-tf/sorteo_improved_divisor4/models/model.ckpt-5085.meta \\\n",
    "    --scope=quant_model"
   ],
   "metadata": {
    "collapsed": false,
    "pycharm": {
     "name": "#%%\n"
    }
   },
   "execution_count": null,
   "outputs": []
  },
  {
   "cell_type": "code",
   "execution_count": null,
   "outputs": [],
   "source": [
    "! python3 tools/benchmark/calc_inference_time.py \\\n",
    "    --model_file=/content/GraduationProject/PF_models/uniform-tf/sorteo_improved_divisor4/models/model.pb"
   ],
   "metadata": {
    "collapsed": false,
    "pycharm": {
     "name": "#%%\n"
    }
   }
  },
  {
   "cell_type": "code",
   "execution_count": null,
   "outputs": [],
   "source": [
    "! python3 tools/benchmark/calc_inference_time.py \\\n",
    "    --model_file=/content/GraduationProject/PF_models/uniform-tf/sorteo_improved_divisor4/models/model.tflite\n"
   ],
   "metadata": {
    "collapsed": false,
    "pycharm": {
     "name": "#%%\n"
    }
   }
  },
  {
   "cell_type": "markdown",
   "source": [
    "### improved_divisor8"
   ],
   "metadata": {
    "collapsed": false,
    "pycharm": {
     "name": "#%% md\n"
    }
   }
  },
  {
   "cell_type": "code",
   "source": [
    "os.chdir(\"/content/GraduationProject/module_pocketflow\")\n",
    "! ./scripts/run_local.sh compressing_with_PF/unet_run.py \\\n",
    "    --structure=improved \\\n",
    "    --divisor=8 \\\n",
    "    --learner=uniform-tf \\\n",
    "    --save_path=/content/GraduationProject/PF_models/full-prec/sorteo_improved_divisor8/models/model.ckpt \\\n",
    "    --uqtf_save_path=/content/GraduationProject/PF_models/uniform-tf/sorteo_improved_divisor8/models/model.ckpt \\\n",
    "    --uqtf_save_path_eval=/content/GraduationProject/PF_models/uniform-tf/sorteo_improved_divisor8/models_eval/model.ckpt \\\n",
    "    --data_dir=/content/GraduationProject/datasets/sorteo_pad_4/data \\\n",
    "    --input_shape=[112,112,1] \\\n",
    "    --epoch_num=20 \\\n",
    "    --lrn_rate_init=0.2 \\\n",
    "    --batch_size=8"
   ],
   "metadata": {
    "collapsed": false,
    "pycharm": {
     "name": "#%%\n"
    }
   },
   "execution_count": null,
   "outputs": []
  },
  {
   "cell_type": "code",
   "execution_count": null,
   "outputs": [],
   "source": [
    "! python3 tools/conversion/export_pb_tflite_models.py \\\n",
    "    --model_dir=/content/GraduationProject/PF_models/uniform-tf/sorteo_improved_divisor8/models \\\n",
    "    --meta_file=/content/GraduationProject/PF_models/uniform-tf/sorteo_improved_divisor8/models/model.ckpt-5085.meta \\\n",
    "    --scope=quant_model"
   ],
   "metadata": {
    "collapsed": false,
    "pycharm": {
     "name": "#%%\n"
    }
   }
  },
  {
   "cell_type": "code",
   "execution_count": null,
   "outputs": [],
   "source": [
    "! python3 tools/benchmark/calc_inference_time.py \\\n",
    "    --model_file=/content/GraduationProject/PF_models/uniform-tf/sorteo_improved_divisor8/models/model.pb"
   ],
   "metadata": {
    "collapsed": false,
    "pycharm": {
     "name": "#%%\n"
    }
   }
  },
  {
   "cell_type": "code",
   "execution_count": null,
   "outputs": [],
   "source": [
    "! python3 tools/benchmark/calc_inference_time.py \\\n",
    "    --model_file=/content/GraduationProject/PF_models/uniform-tf/sorteo_improved_divisor8/models/model.tflite\n"
   ],
   "metadata": {
    "collapsed": false,
    "pycharm": {
     "name": "#%%\n"
    }
   }
  },
  {
   "cell_type": "markdown",
   "source": [
    "### improved_divisor16"
   ],
   "metadata": {
    "collapsed": false
   }
  },
  {
   "cell_type": "code",
   "execution_count": null,
   "outputs": [],
   "source": [
    "os.chdir(\"/content/GraduationProject/module_pocketflow\")\n",
    "! ./scripts/run_local.sh compressing_with_PF/unet_run.py \\\n",
    "    --structure=improved \\\n",
    "    --divisor=16 \\\n",
    "    --learner=uniform-tf \\\n",
    "    --save_path=/content/GraduationProject/PF_models/full-prec/sorteo_improved_divisor16/models/model.ckpt \\\n",
    "    --uqtf_save_path=/content/GraduationProject/PF_models/uniform-tf/sorteo_improved_divisor16/models/model.ckpt \\\n",
    "    --uqtf_save_path_eval=/content/GraduationProject/PF_models/uniform-tf/sorteo_improved_divisor16/models_eval/model.ckpt \\\n",
    "    --data_dir=/content/GraduationProject/datasets/sorteo_pad_4/data \\\n",
    "    --input_shape=[112,112,1] \\\n",
    "    --epoch_num=20 \\\n",
    "    --lrn_rate_init=0.2 \\\n",
    "    --batch_size=8"
   ],
   "metadata": {
    "collapsed": false,
    "pycharm": {
     "name": "#%%\n"
    }
   }
  },
  {
   "cell_type": "code",
   "execution_count": null,
   "outputs": [],
   "source": [
    "! python3 tools/conversion/export_pb_tflite_models.py \\\n",
    "    --model_dir=/content/GraduationProject/PF_models/uniform-tf/sorteo_improved_divisor16/models \\\n",
    "    --meta_file=/content/GraduationProject/PF_models/uniform-tf/sorteo_improved_divisor16/models/model.ckpt-5085.meta \\\n",
    "    --scope=quant_model"
   ],
   "metadata": {
    "collapsed": false,
    "pycharm": {
     "name": "#%%\n"
    }
   }
  },
  {
   "cell_type": "code",
   "execution_count": null,
   "outputs": [],
   "source": [
    "! python3 tools/benchmark/calc_inference_time.py \\\n",
    "    --model_file=/content/GraduationProject/PF_models/uniform-tf/sorteo_improved_divisor16/models/model.pb"
   ],
   "metadata": {
    "collapsed": false,
    "pycharm": {
     "name": "#%%\n"
    }
   }
  },
  {
   "cell_type": "code",
   "execution_count": null,
   "outputs": [],
   "source": [
    "! python3 tools/benchmark/calc_inference_time.py \\\n",
    "    --model_file=/content/GraduationProject/PF_models/uniform-tf/sorteo_improved_divisor16/models/model.tflite"
   ],
   "metadata": {
    "collapsed": false,
    "pycharm": {
     "name": "#%%\n"
    }
   }
  },
  {
   "cell_type": "markdown",
   "source": [
    "### improved_divisor32"
   ],
   "metadata": {
    "collapsed": false
   }
  },
  {
   "cell_type": "code",
   "execution_count": null,
   "outputs": [],
   "source": [
    "os.chdir(\"/content/GraduationProject/module_pocketflow\")\n",
    "! ./scripts/run_local.sh compressing_with_PF/unet_run.py \\\n",
    "    --structure=improved \\\n",
    "    --divisor=32 \\\n",
    "    --learner=uniform-tf \\\n",
    "    --save_path=/content/GraduationProject/PF_models/full-prec/sorteo_improved_divisor32/models/model.ckpt \\\n",
    "    --uqtf_save_path=/content/GraduationProject/PF_models/uniform-tf/sorteo_improved_divisor32/models/model.ckpt \\\n",
    "    --uqtf_save_path_eval=/content/GraduationProject/PF_models/uniform-tf/sorteo_improved_divisor32/models_eval/model.ckpt \\\n",
    "    --data_dir=/content/GraduationProject/datasets/sorteo_pad_4/data \\\n",
    "    --input_shape=[112,112,1] \\\n",
    "    --epoch_num=20 \\\n",
    "    --lrn_rate_init=0.2 \\\n",
    "    --batch_size=8"
   ],
   "metadata": {
    "collapsed": false,
    "pycharm": {
     "name": "#%%\n"
    }
   }
  },
  {
   "cell_type": "code",
   "execution_count": null,
   "outputs": [],
   "source": [
    "! python3 tools/conversion/export_pb_tflite_models.py \\\n",
    "    --model_dir=/content/GraduationProject/PF_models/uniform-tf/sorteo_improved_divisor32/models \\\n",
    "    --meta_file=/content/GraduationProject/PF_models/uniform-tf/sorteo_improved_divisor32/models/model.ckpt-5085.meta \\\n",
    "    --scope=quant_model"
   ],
   "metadata": {
    "collapsed": false,
    "pycharm": {
     "name": "#%%\n"
    }
   }
  },
  {
   "cell_type": "code",
   "execution_count": null,
   "outputs": [],
   "source": [
    "! python3 tools/benchmark/calc_inference_time.py \\\n",
    "    --model_file=/content/GraduationProject/PF_models/uniform-tf/sorteo_improved_divisor32/models/model.pb"
   ],
   "metadata": {
    "collapsed": false,
    "pycharm": {
     "name": "#%%\n"
    }
   }
  },
  {
   "cell_type": "code",
   "execution_count": null,
   "outputs": [],
   "source": [
    "! python3 tools/benchmark/calc_inference_time.py \\\n",
    "    --model_file=/content/GraduationProject/PF_models/uniform-tf/sorteo_improved_divisor32/models/model.tflite\n"
   ],
   "metadata": {
    "collapsed": false,
    "pycharm": {
     "name": "#%%\n"
    }
   }
  },
  {
   "cell_type": "markdown",
   "source": [
    "### improved_divisor64"
   ],
   "metadata": {
    "collapsed": false
   }
  },
  {
   "cell_type": "code",
   "execution_count": null,
   "outputs": [],
   "source": [
    "os.chdir(\"/content/GraduationProject/module_pocketflow\")\n",
    "! ./scripts/run_local.sh compressing_with_PF/unet_run.py \\\n",
    "    --structure=improved \\\n",
    "    --divisor=64 \\\n",
    "    --learner=uniform-tf \\\n",
    "    --save_path=/content/GraduationProject/PF_models/full-prec/sorteo_improved_divisor64/models/model.ckpt \\\n",
    "    --uqtf_save_path=/content/GraduationProject/PF_models/uniform-tf/sorteo_improved_divisor64/models/model.ckpt \\\n",
    "    --uqtf_save_path_eval=/content/GraduationProject/PF_models/uniform-tf/sorteo_improved_divisor64/models_eval/model.ckpt \\\n",
    "    --data_dir=/content/GraduationProject/datasets/sorteo_pad_4/data \\\n",
    "    --input_shape=[112,112,1] \\\n",
    "    --epoch_num=20 \\\n",
    "    --lrn_rate_init=0.2 \\\n",
    "    --batch_size=8"
   ],
   "metadata": {
    "collapsed": false,
    "pycharm": {
     "name": "#%%\n"
    }
   }
  },
  {
   "cell_type": "code",
   "execution_count": null,
   "outputs": [],
   "source": [
    "! python3 tools/conversion/export_pb_tflite_models.py \\\n",
    "    --model_dir=/content/GraduationProject/PF_models/uniform-tf/sorteo_improved_divisor64/models \\\n",
    "    --meta_file=/content/GraduationProject/PF_models/uniform-tf/sorteo_improved_divisor64/models/model.ckpt-5085.meta \\\n",
    "    --scope=quant_model"
   ],
   "metadata": {
    "collapsed": false,
    "pycharm": {
     "name": "#%%\n"
    }
   }
  },
  {
   "cell_type": "code",
   "execution_count": null,
   "outputs": [],
   "source": [
    "! python3 tools/benchmark/calc_inference_time.py \\\n",
    "    --model_file=/content/GraduationProject/PF_models/uniform-tf/sorteo_improved_divisor64/models/model.pb"
   ],
   "metadata": {
    "collapsed": false,
    "pycharm": {
     "name": "#%%\n"
    }
   }
  },
  {
   "cell_type": "code",
   "execution_count": null,
   "outputs": [],
   "source": [
    "! python3 tools/benchmark/calc_inference_time.py \\\n",
    "    --model_file=/content/GraduationProject/PF_models/uniform-tf/sorteo_improved_divisor64/models/model.tflite\n",
    "\n"
   ],
   "metadata": {
    "collapsed": false,
    "pycharm": {
     "name": "#%%\n"
    }
   }
  }
 ],
 "metadata": {
  "language_info": {
   "codemirror_mode": {
    "name": "ipython",
    "version": 2
   },
   "file_extension": ".py",
   "mimetype": "text/x-python",
   "name": "python",
   "nbconvert_exporter": "python",
   "pygments_lexer": "ipython2",
   "version": "2.7.6"
  },
  "kernelspec": {
   "name": "python3",
   "language": "python",
   "display_name": "Python 3"
  },
  "pycharm": {
   "stem_cell": {
    "cell_type": "raw",
    "source": [],
    "metadata": {
     "collapsed": false
    }
   }
  }
 },
 "nbformat": 4,
 "nbformat_minor": 0
}