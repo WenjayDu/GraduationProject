{
 "cells": [
  {
   "cell_type": "markdown",
   "metadata": {
    "collapsed": true,
    "pycharm": {
     "name": "#%% md\n"
    }
   },
   "source": [
    "# Clone repos and change dir"
   ]
  },
  {
   "cell_type": "code",
   "execution_count": null,
   "outputs": [],
   "source": [
    "# clone/update the GraduationProject\n",
    "# if project does not exist, then clone the remote repo to local\n",
    "# if do exit now, then pull from the remote, both the main project and submodules\n",
    "import os\n",
    "os.chdir(\"/content\")\n",
    "\n",
    "!if [ ! -d \"/content/GraduationProject\" ]; then \\\n",
    "    cd /content && \\\n",
    "    echo -e \"\\n❗️Project does not exist, pulling from remote...\" && \\\n",
    "    git clone https://github.com/WenjayDu/GraduationProject.git && \\\n",
    "    cd GraduationProject && \\\n",
    "    git submodule update --init --recursive && \\\n",
    "    echo \"❗️Done pulling\"; \\\n",
    "else \\\n",
    "    echo -e \"\\n❗Project exists. Start update...\" && \\\n",
    "    cd /content/GraduationProject && \\\n",
    "    echo \"🚩Now in `pwd`\" && \\\n",
    "    git pull && \\\n",
    "    cd module_minc_keras && \\\n",
    "    echo \"🚩Now in `pwd`\" && \\\n",
    "    git checkout master && \\\n",
    "    git pull && \\\n",
    "    cd ../module_pocketflow && \\\n",
    "    echo \"🚩Now in `pwd`\" && \\\n",
    "    git checkout master && \\\n",
    "    git pull && \\\n",
    "    echo \"❗️Done updating\"; \\\n",
    "fi\n"
   ],
   "metadata": {
    "collapsed": false,
    "pycharm": {
     "name": "#%%\n"
    }
   }
  },
  {
   "cell_type": "markdown",
   "metadata": {
    "pycharm": {
     "metadata": false,
     "name": "#%% md\n"
    }
   },
   "source": [
    "# Prepare dataset"
   ]
  },
  {
   "cell_type": "code",
   "execution_count": null,
   "metadata": {
    "pycharm": {
     "metadata": false,
     "name": "#%%\n"
    }
   },
   "outputs": [],
   "source": [
    "os.chdir(\"/content/GraduationProject/datasets\")\n",
    "# decompress output.tar.bz2 and make mri dataset\n",
    "!if [ ! -d \"./mri\" ]; then \\\n",
    "    tar -jxvf /content/GraduationProject/module_minc_keras/data/output.tar.bz2 -C ./ &> /dev/null && \\\n",
    "    mv output mri; \\\n",
    "fi\n",
    "\n",
    "# download sorteo.tar.bz2 and make sorteo dataset\n",
    "!if [ ! -d \"./sorteo\" ]; then \\\n",
    "    wget https://amnesia.cbrain.mcgill.ca/deeplearning/sorteo.tar.bz2 --no-check-certificate && \\\n",
    "    mkdir sorteo && \\\n",
    "    tar -jxvf sorteo.tar.bz2 -C sorteo &> /dev/null; \\\n",
    "fi\n",
    "\n",
    "# prepare datasets\n",
    "os.chdir(\"/content/GraduationProject\")\n",
    "from data_processing.prepare_datasets import prepare_dataset\n",
    "prepare_dataset(dataset_name=\"mri\") \n",
    "prepare_dataset(dataset_name=\"sorteo\",ratios=[0.6, 0.2])\n",
    "\n",
    "# convert generated .npy files to .tfrecords files\n",
    "from data_processing.convert_npy_to_tfrecords import convert_whole_dataset\n",
    "convert_whole_dataset(dataset_dir_path=\"datasets/mri_pad_4\")\n",
    "convert_whole_dataset(dataset_dir_path=\"datasets/sorteo_pad_4\")\n"
   ]
  },
  {
   "cell_type": "markdown",
   "metadata": {
    "pycharm": {
     "metadata": false
    }
   },
   "source": [
    "# Construct unet with Keras and train it"
   ]
  },
  {
   "cell_type": "markdown",
   "source": [
    "## on MRI dataset"
   ],
   "metadata": {
    "pycharm": {
     "metadata": false
    }
   }
  },
  {
   "cell_type": "markdown",
   "source": [
    "### original, epoch=10"
   ],
   "metadata": {
    "pycharm": {
     "metadata": false
    }
   }
  },
  {
   "cell_type": "code",
   "execution_count": null,
   "outputs": [],
   "source": [
    "!python3 /content/GraduationProject/unet_constructing/keras_impl_run.py \\\n",
    "    --structure=\"original\" \\\n",
    "    --dataset_dir_path=\"datasets/mri_pad_4\" \\\n",
    "    --epoch_num=10\n",
    "\n",
    "from config_and_utils import get_size\n",
    "a=get_size('datasets/mri_pad_4/models/keras_impl/original_divisor1_epoch10/saved_model')\n",
    "print('model size: %.2f'%a,'MiB')\n"
   ],
   "metadata": {
    "pycharm": {
     "metadata": false,
     "name": "#%%\n"
    }
   }
  },
  {
   "cell_type": "markdown",
   "source": [
    "### original with BN, epoch=10"
   ],
   "metadata": {
    "collapsed": false
   }
  },
  {
   "cell_type": "code",
   "execution_count": null,
   "metadata": {
    "pycharm": {
     "metadata": false,
     "name": "#%%\n"
    }
   },
   "outputs": [],
   "source": [
    "!python3 /content/GraduationProject/unet_constructing/keras_impl_run.py \\\n",
    "    --structure=\"improved\" \\\n",
    "    --dataset_dir_path=\"datasets/mri_pad_4\" \\\n",
    "    --epoch_num=10\n",
    "\n",
    "a=get_size('datasets/mri_pad_4/models/keras_impl/improved_divisor1_epoch10/saved_model')\n",
    "print('model size: %.2f'%a,'MiB')\n"
   ]
  },
  {
   "cell_type": "markdown",
   "source": [
    "### original, divisor=2, epoch=10"
   ],
   "metadata": {
    "pycharm": {
     "metadata": false,
     "name": "#%% md\n"
    }
   }
  },
  {
   "cell_type": "code",
   "source": [
    "!python3 /content/GraduationProject/unet_constructing/keras_impl_run.py \\\n",
    "    --structure=\"original\" \\\n",
    "    --divisor=2 \\\n",
    "    --dataset_dir_path=\"datasets/mri_pad_4\" \\\n",
    "    --epoch_num=10\n",
    "\n",
    "a=get_size('datasets/mri_pad_4/models/keras_impl/original_divisor2_epoch10/saved_model')\n",
    "print('model size: %.2f'%a,'MiB')\n"
   ],
   "metadata": {
    "pycharm": {
     "metadata": false,
     "name": "#%%\n"
    }
   },
   "execution_count": null,
   "outputs": []
  },
  {
   "cell_type": "markdown",
   "source": [
    "### original with BN, divisor=2, epoch=10"
   ],
   "metadata": {
    "pycharm": {
     "metadata": false
    }
   }
  },
  {
   "cell_type": "code",
   "execution_count": 1,
   "outputs": [
    {
     "name": "stdout",
     "text": [
      "python3: can't open file '/content/GraduationProject/unet_constructing/keras_impl_run.py': [Errno 2] No such file or directory\r\n"
     ],
     "output_type": "stream"
    }
   ],
   "source": [
    "!python3 /content/GraduationProject/unet_constructing/keras_impl_run.py \\\n",
    "    --structure=\"improved\" \\\n",
    "    --divisor=2 \\\n",
    "    --dataset_dir_path=\"datasets/mri_pad_4\" \\\n",
    "    --epoch_num=10\n",
    "\n",
    "a=get_size('datasets/mri_pad_4/models/keras_impl/improved_divisor2_epoch10/saved_model')\n",
    "print('model size: %.2f'%a,'MiB')\n"
   ],
   "metadata": {
    "pycharm": {
     "metadata": false,
     "name": "#%%\n",
     "is_executing": false
    }
   }
  },
  {
   "cell_type": "markdown",
   "source": [
    "### original, divisor=4, epoch=10"
   ],
   "metadata": {
    "collapsed": false
   }
  },
  {
   "cell_type": "code",
   "execution_count": null,
   "outputs": [],
   "source": [
    "!python3 /content/GraduationProject/unet_constructing/keras_impl_run.py \\\n",
    "    --structure=\"original\" \\\n",
    "    --divisor=4 \\\n",
    "    --dataset_dir_path=\"datasets/mri_pad_4\" \\\n",
    "    --epoch_num=10\n",
    "\n",
    "a=get_size('datasets/mri_pad_4/models/keras_impl/original_divisor4_epoch10/saved_model')\n",
    "print('model size: %.2f'%a,'MiB')\n"
   ],
   "metadata": {
    "collapsed": false,
    "pycharm": {
     "name": "#%%\n"
    }
   }
  },
  {
   "cell_type": "markdown",
   "source": [
    "### original with BN, divisor=4, epoch=10"
   ],
   "metadata": {
    "collapsed": false
   }
  },
  {
   "cell_type": "code",
   "execution_count": null,
   "outputs": [],
   "source": [
    "!python3 /content/GraduationProject/unet_constructing/keras_impl_run.py \\\n",
    "    --structure=\"improved\" \\\n",
    "    --divisor=4 \\\n",
    "    --dataset_dir_path=\"datasets/mri_pad_4\" \\\n",
    "    --epoch_num=10\n",
    "\n",
    "a=get_size('datasets/mri_pad_4/models/keras_impl/improved_divisor4_epoch10/saved_model')\n",
    "print('model size: %.2f'%a,'MiB')\n"
   ],
   "metadata": {
    "collapsed": false,
    "pycharm": {
     "name": "#%%\n"
    }
   }
  },
  {
   "cell_type": "markdown",
   "source": [
    "### original, divisor=8, epoch=10"
   ],
   "metadata": {
    "collapsed": false
   }
  },
  {
   "cell_type": "code",
   "execution_count": null,
   "outputs": [],
   "source": [
    "!python3 /content/GraduationProject/unet_constructing/keras_impl_run.py \\\n",
    "    --structure=\"original\" \\\n",
    "    --divisor=8 \\\n",
    "    --dataset_dir_path=\"datasets/mri_pad_4\" \\\n",
    "    --epoch_num=10\n",
    "\n",
    "a=get_size('datasets/mri_pad_4/models/keras_impl/original_divisor8_epoch10/saved_model')\n",
    "print('model size: %.2f'%a,'MiB')\n"
   ],
   "metadata": {
    "collapsed": false,
    "pycharm": {
     "name": "#%%\n"
    }
   }
  },
  {
   "cell_type": "markdown",
   "source": [
    "### original with BN, divisor=8, epoch=10"
   ],
   "metadata": {
    "collapsed": false
   }
  },
  {
   "cell_type": "code",
   "execution_count": null,
   "outputs": [],
   "source": [
    "!python3 /content/GraduationProject/unet_constructing/keras_impl_run.py \\\n",
    "    --structure=\"improved\" \\\n",
    "    --divisor=8 \\\n",
    "    --dataset_dir_path=\"datasets/mri_pad_4\" \\\n",
    "    --epoch_num=10\n",
    "\n",
    "a=get_size('datasets/mri_pad_4/models/keras_impl/improved_divisor8_epoch10/saved_model')\n",
    "print('model size: %.2f'%a,'MiB')\n"
   ],
   "metadata": {
    "collapsed": false,
    "pycharm": {
     "name": "#%%\n"
    }
   }
  },
  {
   "cell_type": "markdown",
   "source": [
    "### original, divisor=16, epoch=20"
   ],
   "metadata": {
    "collapsed": false
   }
  },
  {
   "cell_type": "code",
   "execution_count": null,
   "outputs": [],
   "source": [
    "!python3 /content/GraduationProject/unet_constructing/keras_impl_run.py \\\n",
    "    --structure=\"original\" \\\n",
    "    --divisor=16 \\\n",
    "    --dataset_dir_path=\"datasets/mri_pad_4\" \\\n",
    "    --epoch_num=20\n",
    "\n",
    "a=get_size('datasets/mri_pad_4/models/keras_impl/original_divisor16_epoch20/saved_model')\n",
    "print('model size: %.2f'%a,'MiB')\n"
   ],
   "metadata": {
    "collapsed": false,
    "pycharm": {
     "name": "#%%\n"
    }
   }
  },
  {
   "cell_type": "markdown",
   "source": [
    "### original with BN, divisor=16, epoch=20"
   ],
   "metadata": {
    "collapsed": false
   }
  },
  {
   "cell_type": "code",
   "execution_count": null,
   "outputs": [],
   "source": [
    "!python3 /content/GraduationProject/unet_constructing/keras_impl_run.py \\\n",
    "    --structure=\"improved\" \\\n",
    "    --divisor=16 \\\n",
    "    --dataset_dir_path=\"datasets/mri_pad_4\" \\\n",
    "    --epoch_num=20\n",
    "\n",
    "a=get_size('datasets/mri_pad_4/models/keras_impl/improved_divisor16_epoch20/saved_model')\n",
    "print('model size: %.2f'%a,'MiB')\n"
   ],
   "metadata": {
    "collapsed": false,
    "pycharm": {
     "name": "#%%\n"
    }
   }
  },
  {
   "cell_type": "markdown",
   "source": [
    "### original with BN, divisor=32, epoch=20"
   ],
   "metadata": {
    "collapsed": false
   }
  },
  {
   "cell_type": "code",
   "execution_count": null,
   "outputs": [],
   "source": [
    "!python3 /content/GraduationProject/unet_constructing/keras_impl_run.py \\\n",
    "    --structure=\"improved\" \\\n",
    "    --divisor=32 \\\n",
    "    --dataset_dir_path=\"datasets/mri_pad_4\" \\\n",
    "    --epoch_num=20\n",
    "\n",
    "a=get_size('datasets/mri_pad_4/models/keras_impl/improved_divisor32_epoch20/saved_model')\n",
    "print('model size: %.2f'%a,'MiB')\n"
   ],
   "metadata": {
    "collapsed": false,
    "pycharm": {
     "name": "#%%\n"
    }
   }
  },
  {
   "cell_type": "markdown",
   "source": [
    "### original with BN, divisor=64, epoch=20"
   ],
   "metadata": {
    "collapsed": false
   }
  },
  {
   "cell_type": "code",
   "execution_count": null,
   "outputs": [],
   "source": [
    "!python3 /content/GraduationProject/unet_constructing/keras_impl_run.py \\\n",
    "    --structure=\"improved\" \\\n",
    "    --divisor=64 \\\n",
    "    --dataset_dir_path=\"datasets/mri_pad_4\" \\\n",
    "    --epoch_num=20\n",
    "\n",
    "a=get_size('datasets/mri_pad_4/models/keras_impl/improved_divisor64_epoch20/saved_model')\n",
    "print('model size: %.2f'%a,'MiB')\n"
   ],
   "metadata": {
    "collapsed": false,
    "pycharm": {
     "name": "#%%\n"
    }
   }
  },
  {
   "cell_type": "markdown",
   "source": [
    "## on SORTEO dataset"
   ],
   "metadata": {
    "pycharm": {
     "metadata": false
    }
   }
  },
  {
   "cell_type": "markdown",
   "source": [
    "### original, epoch=10"
   ],
   "metadata": {
    "pycharm": {
     "metadata": false
    }
   }
  },
  {
   "cell_type": "code",
   "execution_count": null,
   "outputs": [],
   "source": [
    "!python3 /content/GraduationProject/unet_constructing/keras_impl_run.py \\\n",
    "    --structure=\"original\" \\\n",
    "    --dataset_dir_path=\"datasets/sorteo_pad_4\" \\\n",
    "    --epoch_num=10\n",
    "\n",
    "a=get_size('datasets/sorteo_pad_4/models/keras_impl/original_divisor1_epoch10/saved_model')\n",
    "print('model size: %.2f'%a,'MiB')\n"
   ],
   "metadata": {
    "pycharm": {
     "metadata": false,
     "name": "#%%\n"
    }
   }
  },
  {
   "cell_type": "markdown",
   "source": [
    "### original with BN, epoch=10"
   ],
   "metadata": {
    "pycharm": {
     "metadata": false
    }
   }
  },
  {
   "cell_type": "code",
   "execution_count": null,
   "outputs": [],
   "source": [
    "!python3 /content/GraduationProject/unet_constructing/keras_impl_run.py \\\n",
    "    --structure=\"improved\" \\\n",
    "    --dataset_dir_path=\"datasets/sorteo_pad_4\" \\\n",
    "    --epoch_num=10\n",
    "\n",
    "a=get_size('datasets/sorteo_pad_4/models/keras_impl/improved_divisor1_epoch10/saved_model')\n",
    "print('model size: %.2f'%a,'MiB')\n"
   ],
   "metadata": {
    "pycharm": {
     "metadata": false,
     "name": "#%%\n"
    }
   }
  },
  {
   "cell_type": "markdown",
   "source": [
    "### original, divisor=2, epoch=10"
   ],
   "metadata": {
    "pycharm": {
     "metadata": false
    }
   }
  },
  {
   "cell_type": "code",
   "execution_count": null,
   "outputs": [],
   "source": [
    "!python3 /content/GraduationProject/unet_constructing/keras_impl_run.py \\\n",
    "    --structure=\"original\" \\\n",
    "    --divisor=2 \\\n",
    "    --dataset_dir_path=\"datasets/sorteo_pad_4\" \\\n",
    "    --epoch_num=10\n",
    "\n",
    "a=get_size('datasets/sorteo_pad_4/models/keras_impl/original_divisor2_epoch10/saved_model')\n",
    "print('model size: %.2f'%a,'MiB')\n"
   ],
   "metadata": {
    "pycharm": {
     "metadata": false,
     "name": "#%%\n"
    }
   }
  },
  {
   "cell_type": "markdown",
   "source": [
    "### original with BN, divisor=2, epoch=10"
   ],
   "metadata": {
    "pycharm": {
     "metadata": false
    }
   }
  },
  {
   "cell_type": "code",
   "execution_count": null,
   "outputs": [],
   "source": [
    "!python3 /content/GraduationProject/unet_constructing/keras_impl_run.py \\\n",
    "    --structure=\"improved\" \\\n",
    "    --divisor=2 \\\n",
    "    --dataset_dir_path=\"datasets/sorteo_pad_4\" \\\n",
    "    --epoch_num=10\n",
    "\n",
    "a=get_size('datasets/sorteo_pad_4/models/keras_impl/improved_divisor2_epoch10/saved_model')\n",
    "print('model size: %.2f'%a,'MiB')\n"
   ],
   "metadata": {
    "pycharm": {
     "metadata": false,
     "name": "#%%\n"
    }
   }
  },
  {
   "cell_type": "markdown",
   "source": [
    "### original, divisor=4, epoch=10"
   ],
   "metadata": {
    "collapsed": false
   }
  },
  {
   "cell_type": "code",
   "execution_count": null,
   "outputs": [],
   "source": [
    "!python3 /content/GraduationProject/unet_constructing/keras_impl_run.py \\\n",
    "    --structure=\"original\" \\\n",
    "    --divisor=4 \\\n",
    "    --dataset_dir_path=\"datasets/sorteo_pad_4\" \\\n",
    "    --epoch_num=10\n",
    "\n",
    "a=get_size('datasets/sorteo_pad_4/models/keras_impl/original_divisor4_epoch10/saved_model')\n",
    "print('model size: %.2f'%a,'MiB')\n"
   ],
   "metadata": {
    "collapsed": false,
    "pycharm": {
     "name": "#%%\n"
    }
   }
  },
  {
   "cell_type": "markdown",
   "source": [
    "### original with BN, divisor=4, epoch=10"
   ],
   "metadata": {
    "collapsed": false
   }
  },
  {
   "cell_type": "code",
   "execution_count": null,
   "outputs": [],
   "source": [
    "!python3 /content/GraduationProject/unet_constructing/keras_impl_run.py \\\n",
    "    --structure=\"improved\" \\\n",
    "    --divisor=4 \\\n",
    "    --dataset_dir_path=\"datasets/sorteo_pad_4\" \\\n",
    "    --epoch_num=10\n",
    "\n",
    "a=get_size('datasets/sorteo_pad_4/models/keras_impl/improved_divisor4_epoch10/saved_model')\n",
    "print('model size: %.2f'%a,'MiB')\n"
   ],
   "metadata": {
    "collapsed": false,
    "pycharm": {
     "name": "#%%\n"
    }
   }
  },
  {
   "cell_type": "markdown",
   "source": [
    "### original, divisor=8, epoch=10"
   ],
   "metadata": {
    "collapsed": false
   }
  },
  {
   "cell_type": "code",
   "execution_count": null,
   "outputs": [],
   "source": [
    "!python3 /content/GraduationProject/unet_constructing/keras_impl_run.py \\\n",
    "    --structure=\"original\" \\\n",
    "    --divisor=8 \\\n",
    "    --dataset_dir_path=\"datasets/sorteo_pad_4\" \\\n",
    "    --epoch_num=10\n",
    "\n",
    "a=get_size('datasets/sorteo_pad_4/models/keras_impl/original_divisor8_epoch10/saved_model')\n",
    "print('model size: %.2f'%a,'MiB')\n"
   ],
   "metadata": {
    "collapsed": false,
    "pycharm": {
     "name": "#%%\n"
    }
   }
  },
  {
   "cell_type": "markdown",
   "source": [
    "### original with BN, divisor=8, epoch=10"
   ],
   "metadata": {
    "collapsed": false
   }
  },
  {
   "cell_type": "code",
   "execution_count": null,
   "outputs": [],
   "source": [
    "!python3 /content/GraduationProject/unet_constructing/keras_impl_run.py \\\n",
    "    --structure=\"improved\" \\\n",
    "    --divisor=8 \\\n",
    "    --dataset_dir_path=\"datasets/sorteo_pad_4\" \\\n",
    "    --epoch_num=10\n",
    "\n",
    "a=get_size('datasets/sorteo_pad_4/models/keras_impl/improved_divisor8_epoch10/saved_model')\n",
    "print('model size: %.2f'%a,'MiB')\n"
   ],
   "metadata": {
    "collapsed": false,
    "pycharm": {
     "name": "#%%\n"
    }
   }
  },
  {
   "cell_type": "markdown",
   "source": [
    "### original, divisor=16, epoch=20"
   ],
   "metadata": {
    "collapsed": false
   }
  },
  {
   "cell_type": "code",
   "execution_count": null,
   "outputs": [],
   "source": [
    "!python3 /content/GraduationProject/unet_constructing/keras_impl_run.py \\\n",
    "    --structure=\"original\" \\\n",
    "    --divisor=16 \\\n",
    "    --dataset_dir_path=\"datasets/sorteo_pad_4\" \\\n",
    "    --epoch_num=20\n",
    "\n",
    "a=get_size('datasets/sorteo_pad_4/models/keras_impl/original_divisor16_epoch20/saved_model')\n",
    "print('model size: %.2f'%a,'MiB')\n"
   ],
   "metadata": {
    "collapsed": false,
    "pycharm": {
     "name": "#%%\n"
    }
   }
  },
  {
   "cell_type": "markdown",
   "source": [
    "### original with BN, divisor=16, epoch=20"
   ],
   "metadata": {
    "collapsed": false
   }
  },
  {
   "cell_type": "code",
   "execution_count": null,
   "outputs": [],
   "source": [
    "!python3 /content/GraduationProject/unet_constructing/keras_impl_run.py \\\n",
    "    --structure=\"improved\" \\\n",
    "    --divisor=16 \\\n",
    "    --dataset_dir_path=\"datasets/sorteo_pad_4\" \\\n",
    "    --epoch_num=20\n",
    "\n",
    "a=get_size('datasets/sorteo_pad_4/models/keras_impl/improved_divisor16_epoch20/saved_model')\n",
    "print('model size: %.2f'%a,'MiB')\n"
   ],
   "metadata": {
    "collapsed": false,
    "pycharm": {
     "name": "#%%\n"
    }
   }
  },
  {
   "cell_type": "markdown",
   "source": [
    "### original with BN, divisor=32, epoch=20"
   ],
   "metadata": {
    "collapsed": false
   }
  },
  {
   "cell_type": "code",
   "execution_count": null,
   "outputs": [],
   "source": [
    "!python3 /content/GraduationProject/unet_constructing/keras_impl_run.py \\\n",
    "    --structure=\"improved\" \\\n",
    "    --divisor=32 \\\n",
    "    --dataset_dir_path=\"datasets/sorteo_pad_4\" \\\n",
    "    --epoch_num=20\n",
    "\n",
    "a=get_size('datasets/sorteo_pad_4/models/keras_impl/improved_divisor32_epoch20/saved_model')\n",
    "print('model size: %.2f'%a,'MiB')\n"
   ],
   "metadata": {
    "collapsed": false,
    "pycharm": {
     "name": "#%%\n"
    }
   }
  },
  {
   "cell_type": "markdown",
   "source": [
    "### original with BN, divisor=64, epoch=20"
   ],
   "metadata": {
    "collapsed": false
   }
  },
  {
   "cell_type": "code",
   "execution_count": null,
   "outputs": [],
   "source": [
    "!python3 /content/GraduationProject/unet_constructing/keras_impl_run.py \\\n",
    "    --structure=\"improved\" \\\n",
    "    --divisor=64 \\\n",
    "    --dataset_dir_path=\"datasets/sorteo_pad_4\" \\\n",
    "    --epoch_num=20\n",
    "\n",
    "a=get_size('datasets/sorteo_pad_4/models/keras_impl/improved_divisor64_epoch20/saved_model')\n",
    "print('model size: %.2f'%a,'MiB')\n"
   ],
   "metadata": {
    "collapsed": false,
    "pycharm": {
     "name": "#%%\n"
    }
   }
  },
  {
   "cell_type": "markdown",
   "metadata": {
    "pycharm": {
     "metadata": false
    }
   },
   "source": [
    "## make prediction with trained model"
   ]
  },
  {
   "cell_type": "code",
   "execution_count": null,
   "metadata": {
    "pycharm": {
     "metadata": false,
     "name": "#%%\n"
    }
   },
   "outputs": [],
   "source": [
    "from module_minc_keras.predict import predict\n",
    "os.chdir(\"/content/GraduationProject\")\n",
    "!if [ ! -d \"datasets/mri_pad_4/models/keras_impl/improved_divisor1_epoch10/predictions\" ]; then \\\n",
    "    mkdir -p datasets/mri_pad_4/models/keras_impl/improved_divisor1_epoch10/predictions; \\\n",
    "fi\n",
    "\n",
    "predict(model_fn='datasets/mri_pad_4/models/keras_impl/improved_divisor1_epoch10/saved_model/improved_divisor1_epoch10.hdf5', \n",
    "        predict_dir='datasets/mri_pad_4/models/keras_impl/improved_divisor1_epoch10/predictions',\n",
    "        data_dir='datasets/mri_pad_4/data', \n",
    "        images_fn='datasets/mri_pad_4/report/images.csv', \n",
    "        loss='categorical_crossentropy',\n",
    "        images_to_predict='all', \n",
    "        category=\"test\", \n",
    "        verbose=True)\n"
   ]
  },
  {
   "cell_type": "markdown",
   "source": [
    "### make predictions and create a gif to show, with \"improved_divisor_1\" model"
   ],
   "metadata": {
    "collapsed": false,
    "pycharm": {
     "name": "#%% md\n"
    }
   }
  },
  {
   "cell_type": "code",
   "execution_count": null,
   "outputs": [],
   "source": [
    "from data_processing.img_utils import create_gif\n",
    "from data_processing.predict_with_models import predict_with_keras_model\n",
    "# make predictions with trained model\n",
    "predict_with_keras_model(model_path=\"datasets/mri_pad_4/models/keras_impl/improved_divisor1_epoch10/saved_model/improved_divisor1_epoch10.hdf5\",\n",
    "                         img_path=\"datasets/examples/extracted_images/sub-00031_task-01_ses-01_T1w_anat_rsl\",\n",
    "                         input_shape=(144,112),\n",
    "                         prediction_save_dir=\"datasets/mri_pad_4/models/keras_impl/improved_divisor1_epoch10/single_img_predictions\")\n",
    "# create gif file\n",
    "create_gif(gif_name=\"datasets/mri_pad_4/models/keras_impl/improved_divisor1_epoch10/single_img_predictions/to_hot_cmap/prediction.gif\",\n",
    "           dir_path=\"datasets/mri_pad_4/models/keras_impl/improved_divisor1_epoch10/single_img_predictions/to_hot_cmap/\")\n",
    "# show created gif file\n",
    "from IPython.display import Image\n",
    "with open('datasets/mri_pad_4/models/keras_impl/improved_divisor1_epoch10/single_img_predictions/to_hot_cmap/prediction.gif','rb') as f:\n",
    "    display(Image(data=f.read(), format='png'))\n"
   ],
   "metadata": {
    "collapsed": false,
    "pycharm": {
     "name": "#%%\n"
    }
   }
  },
  {
   "cell_type": "markdown",
   "metadata": {
    "pycharm": {
     "metadata": false
    }
   },
   "source": [
    "# Construct unet with TensorFlow and train it"
   ]
  },
  {
   "cell_type": "markdown",
   "source": [
    "## on MRI dataset"
   ],
   "metadata": {
    "pycharm": {
     "metadata": false
    }
   }
  },
  {
   "cell_type": "markdown",
   "source": [
    "### original, epoch=10"
   ],
   "metadata": {
    "pycharm": {
     "metadata": false
    }
   }
  },
  {
   "cell_type": "code",
   "execution_count": null,
   "metadata": {
    "pycharm": {
     "metadata": false,
     "name": "#%%\n"
    }
   },
   "outputs": [],
   "source": [
    "!python3 /content/GraduationProject/unet_constructing/tf_impl_run.py \\\n",
    "    --structure=\"original\" \\\n",
    "    --dataset_dir_path=\"/content/GraduationProject/datasets/mri_pad_4\" \\\n",
    "    --epoch_num=10\n",
    "\n",
    "a=get_size('datasets/mri_pad_4/models/tf_impl/original_divisor1_epoch10/saved_model')\n",
    "print('model size: %.2f'%a,'MiB')\n"
   ]
  },
  {
   "cell_type": "markdown",
   "source": [
    "### original with BN, epoch=10"
   ],
   "metadata": {
    "pycharm": {
     "metadata": false
    }
   }
  },
  {
   "cell_type": "code",
   "execution_count": null,
   "outputs": [],
   "source": [
    "!python3 /content/GraduationProject/unet_constructing/tf_impl_run.py \\\n",
    "    --structure=\"improved\" \\\n",
    "    --dataset_dir_path=\"/content/GraduationProject/datasets/mri_pad_4\" \\\n",
    "    --epoch_num=10\n",
    "\n",
    "a=get_size('datasets/mri_pad_4/models/tf_impl/improved_divisor1_epoch10/saved_model')\n",
    "print('model size: %.2f'%a,'MiB')\n"
   ],
   "metadata": {
    "pycharm": {
     "metadata": false,
     "name": "#%%\n"
    }
   }
  },
  {
   "cell_type": "markdown",
   "source": [
    "### original, divisor=2, epoch=10"
   ],
   "metadata": {
    "collapsed": false
   }
  },
  {
   "cell_type": "code",
   "execution_count": null,
   "outputs": [],
   "source": [
    "!python3 /content/GraduationProject/unet_constructing/tf_impl_run.py \\\n",
    "    --structure=\"original\" \\\n",
    "    --divisor=2 \\\n",
    "    --dataset_dir_path=\"/content/GraduationProject/datasets/mri_pad_4\" \\\n",
    "    --epoch_num=10\n",
    "\n",
    "a=get_size('datasets/mri_pad_4/models/tf_impl/original_divisor2_epoch10/saved_model')\n",
    "print('model size: %.2f'%a,'MiB')\n"
   ],
   "metadata": {
    "collapsed": false,
    "pycharm": {
     "name": "#%%\n"
    }
   }
  },
  {
   "cell_type": "markdown",
   "source": [
    "### original with BN, divisor=2, epoch=10"
   ],
   "metadata": {
    "collapsed": false
   }
  },
  {
   "cell_type": "code",
   "execution_count": null,
   "outputs": [],
   "source": [
    "!python3 /content/GraduationProject/unet_constructing/tf_impl_run.py \\\n",
    "    --structure=\"improved\" \\\n",
    "    --divisor=2 \\\n",
    "    --dataset_dir_path=\"/content/GraduationProject/datasets/mri_pad_4\" \\\n",
    "    --epoch_num=10\n",
    "\n",
    "a=get_size('datasets/mri_pad_4/models/tf_impl/improved_divisor2_epoch10/saved_model')\n",
    "print('model size: %.2f'%a,'MiB')\n"
   ],
   "metadata": {
    "collapsed": false,
    "pycharm": {
     "name": "#%%\n"
    }
   }
  },
  {
   "cell_type": "markdown",
   "source": [
    "### original, divisor=4, epoch=10"
   ],
   "metadata": {
    "collapsed": false
   }
  },
  {
   "cell_type": "code",
   "execution_count": null,
   "outputs": [],
   "source": [
    "!python3 /content/GraduationProject/unet_constructing/tf_impl_run.py \\\n",
    "    --structure=\"original\" \\\n",
    "    --divisor=4 \\\n",
    "    --dataset_dir_path=\"/content/GraduationProject/datasets/mri_pad_4\" \\\n",
    "    --epoch_num=10\n",
    "\n",
    "a=get_size('datasets/mri_pad_4/models/tf_impl/original_divisor4_epoch10/saved_model')\n",
    "print('model size: %.2f'%a,'MiB')\n"
   ],
   "metadata": {
    "collapsed": false,
    "pycharm": {
     "name": "#%%\n"
    }
   }
  },
  {
   "cell_type": "markdown",
   "source": [
    "### original with BN, divisor=4, epoch=10"
   ],
   "metadata": {
    "collapsed": false
   }
  },
  {
   "cell_type": "code",
   "execution_count": null,
   "outputs": [],
   "source": [
    "!python3 /content/GraduationProject/unet_constructing/tf_impl_run.py \\\n",
    "    --structure=\"improved\" \\\n",
    "    --divisor=4 \\\n",
    "    --dataset_dir_path=\"/content/GraduationProject/datasets/mri_pad_4\" \\\n",
    "    --epoch_num=10\n",
    "\n",
    "a=get_size('datasets/mri_pad_4/models/tf_impl/improved_divisor4_epoch10/saved_model')\n",
    "print('model size: %.2f'%a,'MiB')\n"
   ],
   "metadata": {
    "collapsed": false,
    "pycharm": {
     "name": "#%%\n"
    }
   }
  },
  {
   "cell_type": "markdown",
   "source": [
    "### original, divisor=8, epoch=10"
   ],
   "metadata": {
    "collapsed": false
   }
  },
  {
   "cell_type": "code",
   "execution_count": null,
   "outputs": [],
   "source": [
    "!python3 /content/GraduationProject/unet_constructing/tf_impl_run.py \\\n",
    "    --structure=\"original\" \\\n",
    "    --divisor=8 \\\n",
    "    --dataset_dir_path=\"/content/GraduationProject/datasets/mri_pad_4\" \\\n",
    "    --epoch_num=10\n",
    "\n",
    "a=get_size('datasets/mri_pad_4/models/tf_impl/original_divisor8_epoch10/saved_model')\n",
    "print('model size: %.2f'%a,'MiB')\n"
   ],
   "metadata": {
    "collapsed": false,
    "pycharm": {
     "name": "#%%\n"
    }
   }
  },
  {
   "cell_type": "markdown",
   "source": [
    "### original with BN, divisor=8, epoch=10"
   ],
   "metadata": {
    "collapsed": false
   }
  },
  {
   "cell_type": "code",
   "execution_count": null,
   "outputs": [],
   "source": [
    "!python3 /content/GraduationProject/unet_constructing/tf_impl_run.py \\\n",
    "    --structure=\"improved\" \\\n",
    "    --divisor=8 \\\n",
    "    --dataset_dir_path=\"/content/GraduationProject/datasets/mri_pad_4\" \\\n",
    "    --epoch_num=10\n",
    "\n",
    "a=get_size('datasets/mri_pad_4/models/tf_impl/improved_divisor8_epoch10/saved_model')\n",
    "print('model size: %.2f'%a,'MiB')\n"
   ],
   "metadata": {
    "collapsed": false,
    "pycharm": {
     "name": "#%%\n"
    }
   }
  },
  {
   "cell_type": "markdown",
   "source": [
    "### original, divisor=16, epoch=20"
   ],
   "metadata": {
    "collapsed": false
   }
  },
  {
   "cell_type": "code",
   "execution_count": null,
   "outputs": [],
   "source": [
    "!python3 /content/GraduationProject/unet_constructing/tf_impl_run.py \\\n",
    "    --structure=\"original\" \\\n",
    "    --divisor=16 \\\n",
    "    --dataset_dir_path=\"/content/GraduationProject/datasets/mri_pad_4\" \\\n",
    "    --epoch_num=20\n",
    "\n",
    "a=get_size('datasets/mri_pad_4/models/tf_impl/original_divisor16_epoch20/saved_model')\n",
    "print('model size: %.2f'%a,'MiB')\n"
   ],
   "metadata": {
    "collapsed": false,
    "pycharm": {
     "name": "#%%\n"
    }
   }
  },
  {
   "cell_type": "markdown",
   "source": [
    "### original with BN, divisor=16, epoch=20"
   ],
   "metadata": {
    "collapsed": false
   }
  },
  {
   "cell_type": "code",
   "execution_count": null,
   "outputs": [],
   "source": [
    "!python3 /content/GraduationProject/unet_constructing/tf_impl_run.py \\\n",
    "    --structure=\"improved\" \\\n",
    "    --divisor=16 \\\n",
    "    --dataset_dir_path=\"/content/GraduationProject/datasets/mri_pad_4\" \\\n",
    "    --epoch_num=20\n",
    "\n",
    "a=get_size('datasets/mri_pad_4/models/tf_impl/improved_divisor16_epoch20/saved_model')\n",
    "print('model size: %.2f'%a,'MiB')\n"
   ],
   "metadata": {
    "collapsed": false,
    "pycharm": {
     "name": "#%%\n"
    }
   }
  },
  {
   "cell_type": "markdown",
   "source": [
    "### original with BN, divisor=32, epoch=20"
   ],
   "metadata": {
    "collapsed": false
   }
  },
  {
   "cell_type": "code",
   "execution_count": null,
   "outputs": [],
   "source": [
    "!python3 /content/GraduationProject/unet_constructing/tf_impl_run.py \\\n",
    "    --structure=\"improved\" \\\n",
    "    --divisor=32 \\\n",
    "    --dataset_dir_path=\"/content/GraduationProject/datasets/mri_pad_4\" \\\n",
    "    --epoch_num=20\n",
    "\n",
    "a=get_size('datasets/mri_pad_4/models/tf_impl/improved_divisor32_epoch20/saved_model')\n",
    "print('model size: %.2f'%a,'MiB')\n"
   ],
   "metadata": {
    "collapsed": false,
    "pycharm": {
     "name": "#%%\n"
    }
   }
  },
  {
   "cell_type": "markdown",
   "source": [
    "### original with BN, divisor=64, epoch=20"
   ],
   "metadata": {
    "collapsed": false
   }
  },
  {
   "cell_type": "code",
   "execution_count": null,
   "outputs": [],
   "source": [
    "!python3 /content/GraduationProject/unet_constructing/tf_impl_run.py \\\n",
    "    --structure=\"improved\" \\\n",
    "    --divisor=64 \\\n",
    "    --dataset_dir_path=\"/content/GraduationProject/datasets/mri_pad_4\" \\\n",
    "    --epoch_num=20\n",
    "\n",
    "a=get_size('datasets/mri_pad_4/models/tf_impl/improved_divisor64_epoch20/saved_model')\n",
    "print('model size: %.2f'%a,'MiB')\n"
   ],
   "metadata": {
    "collapsed": false,
    "pycharm": {
     "name": "#%%\n"
    }
   }
  },
  {
   "cell_type": "markdown",
   "source": [
    "## on SORTEO dataset"
   ],
   "metadata": {
    "pycharm": {
     "metadata": false
    }
   }
  },
  {
   "cell_type": "markdown",
   "source": [
    "### original, epoch=10"
   ],
   "metadata": {
    "collapsed": false
   }
  },
  {
   "cell_type": "code",
   "execution_count": null,
   "outputs": [],
   "source": [
    "!python3 /content/GraduationProject/unet_constructing/tf_impl_run.py \\\n",
    "    --structure=\"original\" \\\n",
    "    --dataset_dir_path=\"/content/GraduationProject/datasets/sorteo_pad_4\" \\\n",
    "    --epoch_num=10 \\\n",
    "    --input_shape=[112,112,1]\n",
    "\n",
    "a=get_size('datasets/sorteo_pad_4/models/tf_impl/original_divisor1_epoch10/saved_model')\n",
    "print('model size: %.2f'%a,'MiB')\n"
   ],
   "metadata": {
    "collapsed": false,
    "pycharm": {
     "name": "#%%\n"
    }
   }
  },
  {
   "cell_type": "markdown",
   "source": [
    "### original with BN, epoch=10"
   ],
   "metadata": {
    "collapsed": false
   }
  },
  {
   "cell_type": "code",
   "execution_count": null,
   "outputs": [],
   "source": [
    "!python3 /content/GraduationProject/unet_constructing/tf_impl_run.py \\\n",
    "    --structure=\"improved\" \\\n",
    "    --dataset_dir_path=\"/content/GraduationProject/datasets/sorteo_pad_4\" \\\n",
    "    --epoch_num=10 \\\n",
    "    --input_shape=[112,112,1]\n",
    "\n",
    "a=get_size('datasets/sorteo_pad_4/models/tf_impl/improved_divisor1_epoch10/saved_model')\n",
    "print('model size: %.2f'%a,'MiB')\n"
   ],
   "metadata": {
    "collapsed": false,
    "pycharm": {
     "name": "#%%\n"
    }
   }
  },
  {
   "cell_type": "markdown",
   "source": [
    "### original, divisor=2, epoch=10"
   ],
   "metadata": {
    "collapsed": false
   }
  },
  {
   "cell_type": "code",
   "execution_count": null,
   "outputs": [],
   "source": [
    "!python3 /content/GraduationProject/unet_constructing/tf_impl_run.py \\\n",
    "    --structure=\"original\" \\\n",
    "    --divisor=2 \\\n",
    "    --dataset_dir_path=\"/content/GraduationProject/datasets/sorteo_pad_4\" \\\n",
    "    --epoch_num=10 \\\n",
    "    --input_shape=[112,112,1]\n",
    "\n",
    "a=get_size('datasets/sorteo_pad_4/models/tf_impl/original_divisor2_epoch10/saved_model')\n",
    "print('model size: %.2f'%a,'MiB')\n"
   ],
   "metadata": {
    "collapsed": false,
    "pycharm": {
     "name": "#%%\n"
    }
   }
  },
  {
   "cell_type": "markdown",
   "source": [
    "### original with BN, divisor=2, epoch=10"
   ],
   "metadata": {
    "collapsed": false
   }
  },
  {
   "cell_type": "code",
   "execution_count": null,
   "outputs": [],
   "source": [
    "!python3 /content/GraduationProject/unet_constructing/tf_impl_run.py \\\n",
    "    --structure=\"improved\" \\\n",
    "    --divisor=2 \\\n",
    "    --dataset_dir_path=\"/content/GraduationProject/datasets/sorteo_pad_4\" \\\n",
    "    --epoch_num=10 \\\n",
    "    --input_shape=[112,112,1]\n",
    "\n",
    "a=get_size('datasets/sorteo_pad_4/models/tf_impl/improved_divisor2_epoch10/saved_model')\n",
    "print('model size: %.2f'%a,'MiB')\n"
   ],
   "metadata": {
    "collapsed": false,
    "pycharm": {
     "name": "#%%\n"
    }
   }
  },
  {
   "cell_type": "markdown",
   "source": [
    "### original, divisor=4, epoch=10"
   ],
   "metadata": {
    "collapsed": false
   }
  },
  {
   "cell_type": "code",
   "execution_count": null,
   "outputs": [],
   "source": [
    "!python3 /content/GraduationProject/unet_constructing/tf_impl_run.py \\\n",
    "    --structure=\"original\" \\\n",
    "    --divisor=4 \\\n",
    "    --dataset_dir_path=\"/content/GraduationProject/datasets/sorteo_pad_4\" \\\n",
    "    --epoch_num=10 \\\n",
    "    --input_shape=[112,112,1]\n",
    "\n",
    "a=get_size('datasets/sorteo_pad_4/models/tf_impl/original_divisor4_epoch10/saved_model')\n",
    "print('model size: %.2f'%a,'MiB')\n"
   ],
   "metadata": {
    "collapsed": false,
    "pycharm": {
     "name": "#%%\n"
    }
   }
  },
  {
   "cell_type": "markdown",
   "source": [
    "### original with BN, divisor=4, epoch=10"
   ],
   "metadata": {
    "collapsed": false
   }
  },
  {
   "cell_type": "code",
   "execution_count": null,
   "outputs": [],
   "source": [
    "!python3 /content/GraduationProject/unet_constructing/tf_impl_run.py \\\n",
    "    --structure=\"improved\" \\\n",
    "    --divisor=4 \\\n",
    "    --dataset_dir_path=\"/content/GraduationProject/datasets/sorteo_pad_4\" \\\n",
    "    --epoch_num=10 \\\n",
    "    --input_shape=[112,112,1]\n",
    "\n",
    "a=get_size('datasets/sorteo_pad_4/models/tf_impl/improved_divisor4_epoch10/saved_model')\n",
    "print('model size: %.2f'%a,'MiB')\n"
   ],
   "metadata": {
    "collapsed": false,
    "pycharm": {
     "name": "#%%\n"
    }
   }
  },
  {
   "cell_type": "markdown",
   "source": [
    "### original, divisor=8, epoch=10"
   ],
   "metadata": {
    "collapsed": false
   }
  },
  {
   "cell_type": "code",
   "execution_count": null,
   "outputs": [],
   "source": [
    "!python3 /content/GraduationProject/unet_constructing/tf_impl_run.py \\\n",
    "    --structure=\"original\" \\\n",
    "    --divisor=8 \\\n",
    "    --dataset_dir_path=\"/content/GraduationProject/datasets/sorteo_pad_4\" \\\n",
    "    --epoch_num=10 \\\n",
    "    --input_shape=[112,112,1]\n",
    "\n",
    "a=get_size('datasets/sorteo_pad_4/models/tf_impl/original_divisor8_epoch10/saved_model')\n",
    "print('model size: %.2f'%a,'MiB')\n"
   ],
   "metadata": {
    "collapsed": false,
    "pycharm": {
     "name": "#%%\n"
    }
   }
  },
  {
   "cell_type": "markdown",
   "source": [
    "### original with BN, divisor=8, epoch=10"
   ],
   "metadata": {
    "collapsed": false
   }
  },
  {
   "cell_type": "code",
   "execution_count": null,
   "outputs": [],
   "source": [
    "!python3 /content/GraduationProject/unet_constructing/tf_impl_run.py \\\n",
    "    --structure=\"improved\" \\\n",
    "    --divisor=8 \\\n",
    "    --dataset_dir_path=\"/content/GraduationProject/datasets/sorteo_pad_4\" \\\n",
    "    --epoch_num=10 \\\n",
    "    --input_shape=[112,112,1]\n",
    "\n",
    "a=get_size('datasets/sorteo_pad_4/models/tf_impl/improved_divisor8_epoch10/saved_model')\n",
    "print('model size: %.2f'%a,'MiB')\n"
   ],
   "metadata": {
    "collapsed": false,
    "pycharm": {
     "name": "#%%\n"
    }
   }
  },
  {
   "cell_type": "markdown",
   "source": [
    "### original, divisor=16, epoch=20"
   ],
   "metadata": {
    "collapsed": false
   }
  },
  {
   "cell_type": "code",
   "execution_count": null,
   "outputs": [],
   "source": [
    "!python3 /content/GraduationProject/unet_constructing/tf_impl_run.py \\\n",
    "    --structure=\"original\" \\\n",
    "    --divisor=16 \\\n",
    "    --dataset_dir_path=\"/content/GraduationProject/datasets/sorteo_pad_4\" \\\n",
    "    --epoch_num=20 \\\n",
    "    --input_shape=[112,112,1]\n",
    "\n",
    "a=get_size('datasets/sorteo_pad_4/models/tf_impl/original_divisor16_epoch20/saved_model')\n",
    "print('model size: %.2f'%a,'MiB')\n"
   ],
   "metadata": {
    "collapsed": false,
    "pycharm": {
     "name": "#%%\n"
    }
   }
  },
  {
   "cell_type": "markdown",
   "source": [
    "### original with BN, divisor=16, epoch=20"
   ],
   "metadata": {
    "collapsed": false
   }
  },
  {
   "cell_type": "code",
   "execution_count": null,
   "outputs": [],
   "source": [
    "!python3 /content/GraduationProject/unet_constructing/tf_impl_run.py \\\n",
    "    --structure=\"improved\" \\\n",
    "    --divisor=16 \\\n",
    "    --dataset_dir_path=\"/content/GraduationProject/datasets/sorteo_pad_4\" \\\n",
    "    --epoch_num=20 \\\n",
    "    --input_shape=[112,112,1]\n",
    "\n",
    "a=get_size('datasets/sorteo_pad_4/models/tf_impl/improved_divisor16_epoch20/saved_model')\n",
    "print('model size: %.2f'%a,'MiB')\n"
   ],
   "metadata": {
    "collapsed": false,
    "pycharm": {
     "name": "#%%\n"
    }
   }
  },
  {
   "cell_type": "markdown",
   "source": [
    "### original with BN, divisor=32, epoch=20"
   ],
   "metadata": {
    "collapsed": false
   }
  },
  {
   "cell_type": "code",
   "execution_count": null,
   "outputs": [],
   "source": [
    "!python3 /content/GraduationProject/unet_constructing/tf_impl_run.py \\\n",
    "    --structure=\"improved\" \\\n",
    "    --divisor=32 \\\n",
    "    --dataset_dir_path=\"/content/GraduationProject/datasets/sorteo_pad_4\" \\\n",
    "    --epoch_num=20 \\\n",
    "    --input_shape=[112,112,1]\n",
    "\n",
    "a=get_size('datasets/sorteo_pad_4/models/tf_impl/improved_divisor32_epoch20/saved_model')\n",
    "print('model size: %.2f'%a,'MiB')\n"
   ],
   "metadata": {
    "collapsed": false,
    "pycharm": {
     "name": "#%%\n"
    }
   }
  },
  {
   "cell_type": "markdown",
   "source": [
    "### original with BN, divisor=64, epoch=20"
   ],
   "metadata": {
    "collapsed": false
   }
  },
  {
   "cell_type": "code",
   "execution_count": null,
   "outputs": [],
   "source": [
    "!python3 /content/GraduationProject/unet_constructing/tf_impl_run.py \\\n",
    "    --structure=\"improved\" \\\n",
    "    --divisor=64 \\\n",
    "    --dataset_dir_path=\"/content/GraduationProject/datasets/sorteo_pad_4\" \\\n",
    "    --epoch_num=20 \\\n",
    "    --input_shape=[112,112,1]\n",
    "\n",
    "a=get_size('datasets/sorteo_pad_4/models/tf_impl/improved_divisor64_epoch20/saved_model')\n",
    "print('model size: %.2f'%a,'MiB')\n"
   ],
   "metadata": {
    "collapsed": false,
    "pycharm": {
     "name": "#%%\n"
    }
   }
  },
  {
   "cell_type": "markdown",
   "source": [
    "### make predictions and create a gif to show, with \"improved_divisor_1\" model"
   ],
   "metadata": {
    "collapsed": false,
    "pycharm": {
     "name": "#%% md\n"
    }
   }
  },
  {
   "cell_type": "code",
   "execution_count": null,
   "outputs": [],
   "source": [
    "from data_processing.img_utils import create_gif\n",
    "from data_processing.predict_with_models import predict_with_tf_model\n",
    "# make predictions with trained model\n",
    "predict_with_tf_model(ckpt_path=\"datasets/mri_pad_4/models/tf_impl/improved_divisor1_epoch10/saved_model/improved_divisor1_epoch10.ckpt\",\n",
    "                      structure=\"improved\",\n",
    "                      img_path=\"datasets/examples/extracted_images/sub-00031_task-01_ses-01_T1w_anat_rsl\",\n",
    "                      prediction_save_dir=\"datasets/mri_pad_4/models/tf_impl/improved_divisor1_epoch10/single_img_predictions\")\n",
    " # create gif file\n",
    "create_gif(gif_name=\"datasets/mri_pad_4/models/tf_impl/improved_divisor1_epoch10/single_img_predictions/to_hot_cmap/prediction.gif\",\n",
    "           dir_path=\"datasets/mri_pad_4/models/tf_impl/improved_divisor1_epoch10/single_img_predictions/to_hot_cmap/\")\n",
    "# show created gif file\n",
    "from IPython.display import Image\n",
    "with open('datasets/mri_pad_4/models/tf_impl/improved_divisor1_epoch10/single_img_predictions/to_hot_cmap/prediction.gif','rb') as f:\n",
    "    display(Image(data=f.read(), format='png'))"
   ],
   "metadata": {
    "collapsed": false,
    "pycharm": {
     "name": "#%%\n"
    }
   }
  },
  {
   "cell_type": "markdown",
   "metadata": {
    "pycharm": {
     "metadata": false
    }
   },
   "source": [
    "# Use ngrok to map tensorboard to a public URL to enable visit, if you want, just run it"
   ]
  },
  {
   "cell_type": "code",
   "execution_count": null,
   "metadata": {
    "pycharm": {
     "metadata": false,
     "name": "#%%\n"
    }
   },
   "outputs": [],
   "source": [
    "# run tensorboard\n",
    "LOG_DIR=\"\" # you must give the path of log dir\n",
    "get_ipython().system_raw(\n",
    "    'tensorboard --logdir {} --host 0.0.0.0 --port 6006 &'\n",
    "    .format(LOG_DIR)\n",
    ")\n"
   ]
  },
  {
   "cell_type": "code",
   "execution_count": null,
   "metadata": {
    "pycharm": {
     "metadata": false,
     "name": "#%%\n"
    }
   },
   "outputs": [],
   "source": [
    "# download and unzip ngrok\n",
    "! wget https://bin.equinox.io/c/4VmDzA7iaHb/ngrok-stable-linux-amd64.zip\n",
    "! unzip ngrok-stable-linux-amd64.zip\n"
   ]
  },
  {
   "cell_type": "code",
   "execution_count": null,
   "metadata": {
    "pycharm": {
     "metadata": false,
     "name": "#%%\n"
    }
   },
   "outputs": [],
   "source": [
    "# run ngrok\n",
    "get_ipython().system_raw('./ngrok http 6006 &')\n"
   ]
  },
  {
   "cell_type": "code",
   "execution_count": null,
   "metadata": {
    "pycharm": {
     "metadata": false,
     "name": "#%%\n"
    }
   },
   "outputs": [],
   "source": [
    "# map to public URL\n",
    "! curl -s http://localhost:4040/api/tunnels | \\\n",
    "    python3 -c \"import sys, json; print(json.load(sys.stdin)['tunnels'][0]['public_url'])\" | \\\n",
    "    xargs echo \"the public url of tensorboard is -> \"\n"
   ]
  }
 ],
 "metadata": {
  "kernelspec": {
   "display_name": "Python 3",
   "language": "python",
   "name": "python3"
  },
  "language_info": {
   "codemirror_mode": {
    "name": "ipython",
    "version": 3
   },
   "file_extension": ".py",
   "mimetype": "text/x-python",
   "name": "python",
   "nbconvert_exporter": "python",
   "pygments_lexer": "ipython3",
   "version": "3.6.8"
  },
  "pycharm": {
   "stem_cell": {
    "cell_type": "raw",
    "source": [],
    "metadata": {
     "collapsed": false
    }
   }
  }
 },
 "nbformat": 4,
 "nbformat_minor": 1
}