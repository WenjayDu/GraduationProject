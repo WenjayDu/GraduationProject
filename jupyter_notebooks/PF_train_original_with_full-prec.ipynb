{
 "cells": [
  {
   "cell_type": "markdown",
   "source": [
    "# Train full-precision models with PocketFlow"
   ],
   "metadata": {
    "collapsed": false
   }
  },
  {
   "cell_type": "markdown",
   "source": [
    "# Clone repos and change dir"
   ],
   "metadata": {
    "collapsed": false
   }
  },
  {
   "cell_type": "code",
   "execution_count": null,
   "outputs": [],
   "source": [
    "# clone/update the GraduationProject\n",
    "# if project does not exist, then clone the remote repo to local\n",
    "# if do exit now, then pull from the remote, both the main project and submodules\n",
    "import os\n",
    "os.chdir(\"/content\")\n",
    "\n",
    "!if [ ! -d \"/content/GraduationProject\" ]; then \\\n",
    "    cd /content && \\\n",
    "    echo -e \"\\n❗️Project does not exist, pulling from remote...\" && \\\n",
    "    git clone https://github.com/WenjayDu/GraduationProject.git && \\\n",
    "    cd GraduationProject && \\\n",
    "    git submodule update --init --recursive && \\\n",
    "    echo \"❗️Done pulling\"; \\\n",
    "else \\\n",
    "    echo -e \"\\n❗Project exists. Start update...\" && \\\n",
    "    cd /content/GraduationProject && \\\n",
    "    echo \"🚩Now in `pwd`\" && \\\n",
    "    git pull && \\\n",
    "    cd module_minc_keras && \\\n",
    "    echo \"🚩Now in `pwd`\" && \\\n",
    "    git checkout master && \\\n",
    "    git pull && \\\n",
    "    cd ../module_pocketflow && \\\n",
    "    echo \"🚩Now in `pwd`\" && \\\n",
    "    git checkout master && \\\n",
    "    git pull && \\\n",
    "    echo \"❗️Done updating\"; \\\n",
    "fi\n"
   ],
   "metadata": {
    "collapsed": false,
    "pycharm": {
     "name": "#%%\n"
    }
   }
  },
  {
   "cell_type": "markdown",
   "source": [
    "# Prepare dataset"
   ],
   "metadata": {
    "collapsed": false
   }
  },
  {
   "cell_type": "code",
   "execution_count": null,
   "outputs": [],
   "source": [
    "os.chdir(\"/content/GraduationProject/datasets\")\n",
    "# decompress output.tar.bz2 and make mri dataset\n",
    "!if [ ! -d \"./mri\" ]; then \\\n",
    "    tar -jxvf /content/GraduationProject/module_minc_keras/data/output.tar.bz2 -C ./ &> /dev/null && \\\n",
    "    mv output mri; \\\n",
    "fi"
   ],
   "metadata": {
    "collapsed": false,
    "pycharm": {
     "name": "#%%\n"
    }
   }
  },
  {
   "cell_type": "code",
   "execution_count": null,
   "outputs": [],
   "source": [
    "# download sorteo.tar.bz2 and make sorteo dataset\n",
    "!if [ ! -d \"./sorteo\" ]; then \\\n",
    "    wget https://amnesia.cbrain.mcgill.ca/deeplearning/sorteo.tar.bz2 --no-check-certificate && \\\n",
    "    mkdir sorteo && \\\n",
    "    tar -jxvf sorteo.tar.bz2 -C sorteo &> /dev/null; \\\n",
    "fi"
   ],
   "metadata": {
    "collapsed": false,
    "pycharm": {
     "name": "#%%\n"
    }
   }
  },
  {
   "cell_type": "code",
   "execution_count": null,
   "outputs": [],
   "source": [
    "# prepare datasets\n",
    "os.chdir(\"/content/GraduationProject\")\n",
    "from data_processing.prepare_datasets import prepare_dataset\n",
    "prepare_dataset(dataset_name=\"sorteo\",ratios=[0.6, 0.2])\n",
    "\n",
    "# convert generated .npy files to .tfrecords files\n",
    "from data_processing.convert_npy_to_tfrecords import convert_whole_dataset\n",
    "convert_whole_dataset(dataset_dir_path=\"datasets/sorteo_pad_4\")\n"
   ],
   "metadata": {
    "collapsed": false,
    "pycharm": {
     "name": "#%%\n"
    }
   }
  },
  {
   "cell_type": "markdown",
   "source": [
    "# preparation work for model compressing"
   ],
   "metadata": {
    "collapsed": false
   }
  },
  {
   "cell_type": "code",
   "execution_count": null,
   "outputs": [],
   "source": [
    "!if [ ! -d \"/content/GraduationProject/module_pocketflow/compressing_with_PF\" ]; then \\\n",
    "  cp -r /content/GraduationProject/compressing_with_PF \\\n",
    "  /content/GraduationProject/module_pocketflow/; \\\n",
    "fi"
   ],
   "metadata": {
    "collapsed": false,
    "pycharm": {
     "name": "#%%\n"
    }
   }
  },
  {
   "cell_type": "code",
   "execution_count": null,
   "outputs": [],
   "source": [
    "!if [ ! -d \"/content/GraduationProject/module_pocketflow/models\" ]; then \\\n",
    "  mkdir /content/GraduationProject/module_pocketflow/models \\\n",
    "fi\n"
   ],
   "metadata": {
    "collapsed": false,
    "pycharm": {
     "name": "#%%\n"
    }
   }
  },
  {
   "cell_type": "code",
   "execution_count": null,
   "outputs": [],
   "source": [
    "import os\n",
    "os.chdir(\"/content/GraduationProject\")\n",
    "from config_and_utils import set_up_output_dirs\n",
    "set_up_output_dirs(base_dir='PF_models/full-prec/sorteo_original_divisor1')\n",
    "set_up_output_dirs(base_dir='PF_models/full-prec/sorteo_original_divisor2')\n",
    "set_up_output_dirs(base_dir='PF_models/full-prec/sorteo_original_divisor4')\n",
    "set_up_output_dirs(base_dir='PF_models/full-prec/sorteo_original_divisor8')\n",
    "set_up_output_dirs(base_dir='PF_models/full-prec/sorteo_original_divisor16')\n",
    "set_up_output_dirs(base_dir='PF_models/full-prec/sorteo_original_divisor32')\n",
    "set_up_output_dirs(base_dir='PF_models/full-prec/sorteo_original_divisor64')\n",
    "\n",
    "set_up_output_dirs(base_dir='PF_models/chn-pruned-rmt/sorteo_original_divisor1')\n",
    "set_up_output_dirs(base_dir='PF_models/chn-pruned-rmt/sorteo_original_divisor2')\n",
    "set_up_output_dirs(base_dir='PF_models/chn-pruned-rmt/sorteo_original_divisor4')\n",
    "set_up_output_dirs(base_dir='PF_models/chn-pruned-rmt/sorteo_original_divisor8')\n",
    "set_up_output_dirs(base_dir='PF_models/chn-pruned-rmt/sorteo_original_divisor16')\n",
    "set_up_output_dirs(base_dir='PF_models/chn-pruned-rmt/sorteo_original_divisor32')\n",
    "set_up_output_dirs(base_dir='PF_models/chn-pruned-rmt/sorteo_original_divisor64')\n",
    "\n",
    "set_up_output_dirs(base_dir='PF_models/chn-pruned-gpu/sorteo_original_divisor1')\n",
    "set_up_output_dirs(base_dir='PF_models/chn-pruned-gpu/sorteo_original_divisor2')\n",
    "set_up_output_dirs(base_dir='PF_models/chn-pruned-gpu/sorteo_original_divisor4')\n",
    "set_up_output_dirs(base_dir='PF_models/chn-pruned-gpu/sorteo_original_divisor8')\n",
    "set_up_output_dirs(base_dir='PF_models/chn-pruned-gpu/sorteo_original_divisor16')\n",
    "set_up_output_dirs(base_dir='PF_models/chn-pruned-gpu/sorteo_original_divisor32')\n",
    "set_up_output_dirs(base_dir='PF_models/chn-pruned-gpu/sorteo_original_divisor64')\n",
    "\n",
    "set_up_output_dirs(base_dir='PF_models/uniform-tf/sorteo_original_divisor1')\n",
    "set_up_output_dirs(base_dir='PF_models/uniform-tf/sorteo_original_divisor2')\n",
    "set_up_output_dirs(base_dir='PF_models/uniform-tf/sorteo_original_divisor4')\n",
    "set_up_output_dirs(base_dir='PF_models/uniform-tf/sorteo_original_divisor8')\n",
    "set_up_output_dirs(base_dir='PF_models/uniform-tf/sorteo_original_divisor16')\n",
    "set_up_output_dirs(base_dir='PF_models/uniform-tf/sorteo_original_divisor32')\n",
    "set_up_output_dirs(base_dir='PF_models/uniform-tf/sorteo_original_divisor64')\n"
   ],
   "metadata": {
    "collapsed": false,
    "pycharm": {
     "name": "#%%\n"
    }
   }
  },
  {
   "cell_type": "markdown",
   "source": [
    "# full precision training "
   ],
   "metadata": {
    "collapsed": false
   }
  },
  {
   "cell_type": "markdown",
   "source": [
    "## on sorteo dataset"
   ],
   "metadata": {
    "collapsed": false
   }
  },
  {
   "cell_type": "markdown",
   "source": [
    "### original_divisor1"
   ],
   "metadata": {
    "collapsed": false
   }
  },
  {
   "cell_type": "code",
   "execution_count": null,
   "outputs": [],
   "source": [
    "os.chdir(\"/content/GraduationProject/module_pocketflow\")\n",
    "! ./scripts/run_local.sh compressing_with_PF/unet_run.py \\\n",
    "    --structure=original \\\n",
    "    --divisor=1 \\\n",
    "    --save_path=/content/GraduationProject/PF_models/full-prec/sorteo_original_divisor1/models/model.ckpt \\\n",
    "    --save_path_eval=/content/GraduationProject/PF_models/full-prec/sorteo_original_divisor1/models_eval/model.ckpt \\\n",
    "    --log_dir=/content/GraduationProject/PF_models/full-prec/sorteo_original_divisor1/logs \\\n",
    "    --data_dir=/content/GraduationProject/datasets/sorteo_pad_4/data \\\n",
    "    --learner=full-prec \\\n",
    "    --input_shape=[112,112,1] \\\n",
    "    --epoch_num=80 \\\n",
    "    --lrn_rate_init=0.2 \\\n",
    "    --batch_size=8"
   ],
   "metadata": {
    "collapsed": false,
    "pycharm": {
     "name": "#%%\n"
    }
   }
  },
  {
   "cell_type": "code",
   "execution_count": null,
   "outputs": [],
   "source": [
    "! python3 tools/conversion/export_pb_tflite_models.py \\\n",
    "    --model_dir=/content/GraduationProject/PF_models/full-prec/sorteo_original_divisor1/models \\\n",
    "    --meta_file=/content/GraduationProject/PF_models/full-prec/sorteo_original_divisor1/models/model.ckpt-5085.meta \\\n",
    "    --scope=model"
   ],
   "metadata": {
    "collapsed": false,
    "pycharm": {
     "name": "#%%\n"
    }
   }
  },
  {
   "cell_type": "code",
   "execution_count": null,
   "outputs": [],
   "source": [
    "! python3 tools/benchmark/calc_inference_time.py \\\n",
    "    --model_file=/content/GraduationProject/PF_models/full-prec/sorteo_original_divisor1/models/model.pb"
   ],
   "metadata": {
    "collapsed": false,
    "pycharm": {
     "name": "#%%\n"
    }
   }
  },
  {
   "cell_type": "code",
   "execution_count": null,
   "outputs": [],
   "source": [
    "! python3 tools/benchmark/calc_inference_time.py \\\n",
    "    --model_file=/content/GraduationProject/PF_models/full-prec/sorteo_original_divisor1/models/model.tflite"
   ],
   "metadata": {
    "collapsed": false,
    "pycharm": {
     "name": "#%%\n"
    }
   }
  },
  {
   "cell_type": "markdown",
   "source": [
    "### original_divisor2"
   ],
   "metadata": {
    "collapsed": false
   }
  },
  {
   "cell_type": "code",
   "execution_count": null,
   "outputs": [],
   "source": [
    "import os\n",
    "os.chdir(\"/content/GraduationProject/module_pocketflow\")\n",
    "! ./scripts/run_local.sh compressing_with_PF/unet_run.py \\\n",
    "    --structure=original \\\n",
    "    --divisor=2 \\\n",
    "    --save_path=/content/GraduationProject/PF_models/full-prec/sorteo_original_divisor2/models/model.ckpt \\\n",
    "    --save_path_eval=/content/GraduationProject/PF_models/full-prec/sorteo_original_divisor2/models_eval/model.ckpt \\\n",
    "    --log_dir=/content/GraduationProject/PF_models/full-prec/sorteo_original_divisor2/logs \\\n",
    "    --data_dir=/content/GraduationProject/datasets/sorteo_pad_4/data \\\n",
    "    --learner=full-prec \\\n",
    "    --input_shape=[112,112,1] \\\n",
    "    --epoch_num=80 \\\n",
    "    --lrn_rate_init=0.2 \\\n",
    "    --batch_size=8"
   ],
   "metadata": {
    "collapsed": false,
    "pycharm": {
     "name": "#%%\n"
    }
   }
  },
  {
   "cell_type": "code",
   "execution_count": null,
   "outputs": [],
   "source": [
    "! python3 tools/conversion/export_pb_tflite_models.py \\\n",
    "    --model_dir=/content/GraduationProject/PF_models/full-prec/sorteo_original_divisor2/models \\\n",
    "    --meta_file=/content/GraduationProject/PF_models/full-prec/sorteo_original_divisor2/models/model.ckpt-5085.meta \\\n",
    "    --scope=model"
   ],
   "metadata": {
    "collapsed": false,
    "pycharm": {
     "name": "#%%\n"
    }
   }
  },
  {
   "cell_type": "code",
   "execution_count": null,
   "outputs": [],
   "source": [
    "! python3 tools/benchmark/calc_inference_time.py \\\n",
    "    --model_file=/content/GraduationProject/PF_models/full-prec/sorteo_original_divisor2/models/model.pb"
   ],
   "metadata": {
    "collapsed": false,
    "pycharm": {
     "name": "#%%\n"
    }
   }
  },
  {
   "cell_type": "code",
   "execution_count": null,
   "outputs": [],
   "source": [
    "! python3 tools/benchmark/calc_inference_time.py \\\n",
    "    --model_file=/content/GraduationProject/PF_models/full-prec/sorteo_original_divisor2/models/model.tflite"
   ],
   "metadata": {
    "collapsed": false,
    "pycharm": {
     "name": "#%%\n"
    }
   }
  },
  {
   "cell_type": "markdown",
   "source": [
    "### original_divisor4"
   ],
   "metadata": {
    "collapsed": false
   }
  },
  {
   "cell_type": "code",
   "execution_count": null,
   "outputs": [],
   "source": [
    "os.chdir(\"/content/GraduationProject/module_pocketflow\")\n",
    "! ./scripts/run_local.sh compressing_with_PF/unet_run.py \\\n",
    "    --structure=original \\\n",
    "    --divisor=4 \\\n",
    "    --save_path=/content/GraduationProject/PF_models/full-prec/sorteo_original_divisor4/models/model.ckpt \\\n",
    "    --save_path_eval=/content/GraduationProject/PF_models/full-prec/sorteo_original_divisor4/models_eval/model.ckpt \\\n",
    "    --log_dir=/content/GraduationProject/PF_models/full-prec/sorteo_original_divisor4/logs \\\n",
    "    --data_dir=/content/GraduationProject/datasets/sorteo_pad_4/data \\\n",
    "    --learner=full-prec \\\n",
    "    --input_shape=[112,112,1] \\\n",
    "    --epoch_num=80 \\\n",
    "    --lrn_rate_init=0.2 \\\n",
    "    --batch_size=8"
   ],
   "metadata": {
    "collapsed": false,
    "pycharm": {
     "name": "#%%\n"
    }
   }
  },
  {
   "cell_type": "code",
   "execution_count": null,
   "outputs": [],
   "source": [
    "! python3 tools/conversion/export_pb_tflite_models.py \\\n",
    "    --model_dir=/content/GraduationProject/PF_models/full-prec/sorteo_original_divisor4/models \\\n",
    "    --meta_file=/content/GraduationProject/PF_models/full-prec/sorteo_original_divisor4/models/model.ckpt-5085.meta \\\n",
    "    --scope=model"
   ],
   "metadata": {
    "collapsed": false,
    "pycharm": {
     "name": "#%%\n"
    }
   }
  },
  {
   "cell_type": "code",
   "execution_count": null,
   "outputs": [],
   "source": [
    "! python3 tools/benchmark/calc_inference_time.py \\\n",
    "    --model_file=/content/GraduationProject/PF_models/full-prec/sorteo_original_divisor4/models/model.pb"
   ],
   "metadata": {
    "collapsed": false,
    "pycharm": {
     "name": "#%%\n"
    }
   }
  },
  {
   "cell_type": "code",
   "execution_count": null,
   "outputs": [],
   "source": [
    "! python3 tools/benchmark/calc_inference_time.py \\\n",
    "    --model_file=/content/GraduationProject/PF_models/full-prec/sorteo_original_divisor4/models/model.tflite"
   ],
   "metadata": {
    "collapsed": false,
    "pycharm": {
     "name": "#%%\n"
    }
   }
  },
  {
   "cell_type": "markdown",
   "source": [
    "### original_divisor8"
   ],
   "metadata": {
    "collapsed": false
   }
  },
  {
   "cell_type": "code",
   "execution_count": null,
   "outputs": [],
   "source": [
    "os.chdir(\"/content/GraduationProject/module_pocketflow\")\n",
    "! ./scripts/run_local.sh compressing_with_PF/unet_run.py \\\n",
    "    --structure=original \\\n",
    "    --divisor=8 \\\n",
    "    --save_path=/content/GraduationProject/PF_models/full-prec/sorteo_original_divisor8/models/model.ckpt \\\n",
    "    --save_path_eval=/content/GraduationProject/PF_models/full-prec/sorteo_original_divisor8/models_eval/model.ckpt \\\n",
    "    --log_dir=/content/GraduationProject/PF_models/full-prec/sorteo_original_divisor8/logs \\\n",
    "    --data_dir=/content/GraduationProject/datasets/sorteo_pad_4/data \\\n",
    "    --learner=full-prec \\\n",
    "    --input_shape=[112,112,1] \\\n",
    "    --epoch_num=80 \\\n",
    "    --lrn_rate_init=0.2 \\\n",
    "    --batch_size=8"
   ],
   "metadata": {
    "collapsed": false,
    "pycharm": {
     "name": "#%%\n"
    }
   }
  },
  {
   "cell_type": "code",
   "execution_count": null,
   "outputs": [],
   "source": [
    "! python3 tools/conversion/export_pb_tflite_models.py \\\n",
    "    --model_dir=/content/GraduationProject/PF_models/full-prec/sorteo_original_divisor8/models \\\n",
    "    --meta_file=/content/GraduationProject/PF_models/full-prec/sorteo_original_divisor8/models/model.ckpt-5085.meta \\\n",
    "    --scope=model"
   ],
   "metadata": {
    "collapsed": false,
    "pycharm": {
     "name": "#%%\n"
    }
   }
  },
  {
   "cell_type": "code",
   "execution_count": null,
   "outputs": [],
   "source": [
    "! python3 tools/benchmark/calc_inference_time.py \\\n",
    "    --model_file=/content/GraduationProject/PF_models/full-prec/sorteo_original_divisor8/models/model.pb"
   ],
   "metadata": {
    "collapsed": false,
    "pycharm": {
     "name": "#%%\n"
    }
   }
  },
  {
   "cell_type": "code",
   "execution_count": null,
   "outputs": [],
   "source": [
    "! python3 tools/benchmark/calc_inference_time.py \\\n",
    "    --model_file=/content/GraduationProject/PF_models/full-prec/sorteo_original_divisor8/models/model.tflite"
   ],
   "metadata": {
    "collapsed": false,
    "pycharm": {
     "name": "#%%\n"
    }
   }
  },
  {
   "cell_type": "markdown",
   "source": [
    "### original_divisor16"
   ],
   "metadata": {
    "collapsed": false
   }
  },
  {
   "cell_type": "code",
   "execution_count": null,
   "outputs": [],
   "source": [
    "os.chdir(\"/content/GraduationProject/module_pocketflow\")\n",
    "! ./scripts/run_local.sh compressing_with_PF/unet_run.py \\\n",
    "    --structure=original \\\n",
    "    --divisor=16 \\\n",
    "    --save_path=/content/GraduationProject/PF_models/full-prec/sorteo_original_divisor16/models/model.ckpt \\\n",
    "    --save_path_eval=/content/GraduationProject/PF_models/full-prec/sorteo_original_divisor16/models_eval/model.ckpt \\\n",
    "    --log_dir=/content/GraduationProject/PF_models/full-prec/sorteo_original_divisor16/logs \\\n",
    "    --data_dir=/content/GraduationProject/datasets/sorteo_pad_4/data \\\n",
    "    --learner=full-prec \\\n",
    "    --input_shape=[112,112,1] \\\n",
    "    --epoch_num=80 \\\n",
    "    --lrn_rate_init=0.2 \\\n",
    "    --batch_size=8"
   ],
   "metadata": {
    "collapsed": false,
    "pycharm": {
     "name": "#%%\n"
    }
   }
  },
  {
   "cell_type": "code",
   "execution_count": null,
   "outputs": [],
   "source": [
    "! python3 tools/conversion/export_pb_tflite_models.py \\\n",
    "    --model_dir=/content/GraduationProject/PF_models/full-prec/sorteo_original_divisor16/models \\\n",
    "    --meta_file=/content/GraduationProject/PF_models/full-prec/sorteo_original_divisor16/models/model.ckpt-5085.meta \\\n",
    "    --scope=model"
   ],
   "metadata": {
    "collapsed": false,
    "pycharm": {
     "name": "#%%\n"
    }
   }
  },
  {
   "cell_type": "code",
   "execution_count": null,
   "outputs": [],
   "source": [
    "! python3 tools/benchmark/calc_inference_time.py \\\n",
    "    --model_file=/content/GraduationProject/PF_models/full-prec/sorteo_original_divisor16/models/model.pb"
   ],
   "metadata": {
    "collapsed": false,
    "pycharm": {
     "name": "#%%\n"
    }
   }
  },
  {
   "cell_type": "code",
   "execution_count": null,
   "outputs": [],
   "source": [
    "! python3 tools/benchmark/calc_inference_time.py \\\n",
    "    --model_file=/content/GraduationProject/PF_models/full-prec/sorteo_original_divisor16/models/model.tflite"
   ],
   "metadata": {
    "collapsed": false,
    "pycharm": {
     "name": "#%%\n"
    }
   }
  },
  {
   "cell_type": "markdown",
   "source": [
    "### original_divisor32"
   ],
   "metadata": {
    "collapsed": false
   }
  },
  {
   "cell_type": "code",
   "execution_count": null,
   "outputs": [],
   "source": [
    "os.chdir(\"/content/GraduationProject/module_pocketflow\")\n",
    "! ./scripts/run_local.sh compressing_with_PF/unet_run.py \\\n",
    "    --structure=original \\\n",
    "    --divisor=32 \\\n",
    "    --save_path=/content/GraduationProject/PF_models/full-prec/sorteo_original_divisor32/models/model.ckpt \\\n",
    "    --save_path_eval=/content/GraduationProject/PF_models/full-prec/sorteo_original_divisor32/models_eval/model.ckpt \\\n",
    "    --log_dir=/content/GraduationProject/PF_models/full-prec/sorteo_original_divisor32/logs \\\n",
    "    --data_dir=/content/GraduationProject/datasets/sorteo_pad_4/data \\\n",
    "    --learner=full-prec \\\n",
    "    --input_shape=[112,112,1] \\\n",
    "    --epoch_num=80 \\\n",
    "    --lrn_rate_init=0.2 \\\n",
    "    --batch_size=8"
   ],
   "metadata": {
    "collapsed": false,
    "pycharm": {
     "name": "#%%\n"
    }
   }
  },
  {
   "cell_type": "code",
   "execution_count": null,
   "outputs": [],
   "source": [
    "! python3 tools/conversion/export_pb_tflite_models.py \\\n",
    "    --model_dir=/content/GraduationProject/PF_models/full-prec/sorteo_original_divisor32/models \\\n",
    "    --meta_file=/content/GraduationProject/PF_models/full-prec/sorteo_original_divisor32/models/model.ckpt-5085.meta \\\n",
    "    --scope=model"
   ],
   "metadata": {
    "collapsed": false,
    "pycharm": {
     "name": "#%%\n"
    }
   }
  },
  {
   "cell_type": "code",
   "execution_count": null,
   "outputs": [],
   "source": [
    "! python3 tools/benchmark/calc_inference_time.py \\\n",
    "    --model_file=/content/GraduationProject/PF_models/full-prec/sorteo_original_divisor32/models/model.pb"
   ],
   "metadata": {
    "collapsed": false,
    "pycharm": {
     "name": "#%%\n"
    }
   }
  },
  {
   "cell_type": "code",
   "execution_count": null,
   "outputs": [],
   "source": [
    "! python3 tools/benchmark/calc_inference_time.py \\\n",
    "    --model_file=/content/GraduationProject/PF_models/full-prec/sorteo_original_divisor32/models/model.tflite"
   ],
   "metadata": {
    "collapsed": false,
    "pycharm": {
     "name": "#%%\n"
    }
   }
  },
  {
   "cell_type": "markdown",
   "source": [
    "### original_divisor64"
   ],
   "metadata": {
    "collapsed": false
   }
  },
  {
   "cell_type": "code",
   "execution_count": null,
   "outputs": [],
   "source": [
    "os.chdir(\"/content/GraduationProject/module_pocketflow\")\n",
    "! ./scripts/run_local.sh compressing_with_PF/unet_run.py \\\n",
    "    --structure=original \\\n",
    "    --divisor=64 \\\n",
    "    --save_path=/content/GraduationProject/PF_models/full-prec/sorteo_original_divisor64/models/model.ckpt \\\n",
    "    --save_path_eval=/content/GraduationProject/PF_models/full-prec/sorteo_original_divisor64/models_eval/model.ckpt \\\n",
    "    --log_dir=/content/GraduationProject/PF_models/full-prec/sorteo_original_divisor64/logs \\\n",
    "    --data_dir=/content/GraduationProject/datasets/sorteo_pad_4/data \\\n",
    "    --learner=full-prec \\\n",
    "    --input_shape=[112,112,1] \\\n",
    "    --epoch_num=80 \\\n",
    "    --lrn_rate_init=0.2 \\\n",
    "    --batch_size=8"
   ],
   "metadata": {
    "collapsed": false,
    "pycharm": {
     "name": "#%%\n"
    }
   }
  },
  {
   "cell_type": "code",
   "execution_count": null,
   "outputs": [],
   "source": [
    "! python3 tools/conversion/export_pb_tflite_models.py \\\n",
    "    --model_dir=/content/GraduationProject/PF_models/full-prec/sorteo_original_divisor64/models \\\n",
    "    --meta_file=/content/GraduationProject/PF_models/full-prec/sorteo_original_divisor64/models/model.ckpt-5085.meta \\\n",
    "    --scope=model"
   ],
   "metadata": {
    "collapsed": false,
    "pycharm": {
     "name": "#%%\n"
    }
   }
  },
  {
   "cell_type": "code",
   "execution_count": null,
   "outputs": [],
   "source": [
    "! python3 tools/benchmark/calc_inference_time.py \\\n",
    "    --model_file=/content/GraduationProject/PF_models/full-prec/sorteo_original_divisor64/models/model.pb"
   ],
   "metadata": {
    "collapsed": false,
    "pycharm": {
     "name": "#%%\n"
    }
   }
  },
  {
   "cell_type": "code",
   "execution_count": null,
   "outputs": [],
   "source": [
    "! python3 tools/benchmark/calc_inference_time.py \\\n",
    "    --model_file=/content/GraduationProject/PF_models/full-prec/sorteo_original_divisor64/models/model.tflite\n"
   ],
   "metadata": {
    "collapsed": false,
    "pycharm": {
     "name": "#%%\n"
    }
   }
  }
 ],
 "metadata": {
  "language_info": {
   "codemirror_mode": {
    "name": "ipython",
    "version": 2
   },
   "file_extension": ".py",
   "mimetype": "text/x-python",
   "name": "python",
   "nbconvert_exporter": "python",
   "pygments_lexer": "ipython2",
   "version": "2.7.6"
  },
  "kernelspec": {
   "name": "python3",
   "language": "python",
   "display_name": "Python 3"
  },
  "pycharm": {
   "stem_cell": {
    "cell_type": "raw",
    "source": [],
    "metadata": {
     "collapsed": false
    }
   }
  }
 },
 "nbformat": 4,
 "nbformat_minor": 0
}